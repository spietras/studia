{
 "cells": [
  {
   "cell_type": "code",
   "execution_count": 1,
   "id": "d5327704-268f-42a1-903f-de8d625b1bd3",
   "metadata": {},
   "outputs": [],
   "source": [
    "from protosound.data import FSD50KSpectro, RandomSplit\n",
    "from protosound.modules import SoundEmbedding, SoundClassifier\n",
    "from pytorch_lightning import Trainer"
   ]
  },
  {
   "cell_type": "code",
   "execution_count": 2,
   "id": "e9f2d2c7-e9de-4a3e-a8f2-43df330e9bb6",
   "metadata": {},
   "outputs": [],
   "source": [
    "import warnings\n",
    "warnings.filterwarnings('ignore')"
   ]
  },
  {
   "cell_type": "code",
   "execution_count": 3,
   "id": "8e7aa72c-7014-48a8-9283-4c9eb06a2e58",
   "metadata": {},
   "outputs": [],
   "source": [
    "dataset = FSD50KSpectro(\"../my-data\")\n",
    "datamodule = RandomSplit(dataset)"
   ]
  },
  {
   "cell_type": "code",
   "execution_count": 4,
   "id": "9bba6bc4-7399-45e5-96b9-b7751c31f493",
   "metadata": {},
   "outputs": [],
   "source": [
    "model = SoundClassifier(SoundEmbedding(512), len(dataset.classes))"
   ]
  },
  {
   "cell_type": "code",
   "execution_count": 5,
   "id": "bb9ed3bf-59ee-40f8-a91b-669d1e60e31e",
   "metadata": {},
   "outputs": [
    {
     "name": "stderr",
     "output_type": "stream",
     "text": [
      "GPU available: True, used: False\n",
      "TPU available: False, using: 0 TPU cores\n"
     ]
    }
   ],
   "source": [
    "trainer = Trainer(max_epochs=5, \n",
    "                  limit_train_batches=20, limit_val_batches=2, limit_test_batches=4)  # disable limits in practical settings"
   ]
  },
  {
   "cell_type": "code",
   "execution_count": 6,
   "id": "370dedb3-8058-4fda-9957-f84e222d6514",
   "metadata": {},
   "outputs": [
    {
     "name": "stderr",
     "output_type": "stream",
     "text": [
      "\n",
      "  | Name    | Type       | Params\n",
      "---------------------------------------\n",
      "0 | network | Sequential | 324 K \n",
      "1 | loss    | NLLLoss    | 0     \n",
      "2 | metric  | Accuracy   | 0     \n",
      "---------------------------------------\n",
      "324 K     Trainable params\n",
      "0         Non-trainable params\n",
      "324 K     Total params\n",
      "1.298     Total estimated model params size (MB)\n"
     ]
    },
    {
     "name": "stdout",
     "output_type": "stream",
     "text": [
      "Epoch 0:  91%|█████████ | 20/22 [00:04<00:00,  4.45it/s, loss=2.91, v_num=19]\n",
      "Validating: 0it [00:00, ?it/s]\u001b[A\n",
      "Validating:   0%|          | 0/2 [00:00<?, ?it/s]\u001b[A\n",
      "Epoch 0: 100%|██████████| 22/22 [00:04<00:00,  4.70it/s, loss=2.91, v_num=19]\n",
      "Epoch 0: 100%|██████████| 22/22 [00:05<00:00,  4.38it/s, loss=2.91, v_num=19]\n",
      "Epoch 1:  91%|█████████ | 20/22 [00:03<00:00,  5.26it/s, loss=3.09, v_num=19]\n",
      "Validating: 0it [00:00, ?it/s]\u001b[A\n",
      "Validating:   0%|          | 0/2 [00:00<?, ?it/s]\u001b[A\n",
      "Epoch 1: 100%|██████████| 22/22 [00:03<00:00,  5.52it/s, loss=3.09, v_num=19]\n",
      "Epoch 1: 100%|██████████| 22/22 [00:04<00:00,  5.25it/s, loss=3.09, v_num=19]\n",
      "Epoch 2:  91%|█████████ | 20/22 [00:03<00:00,  5.19it/s, loss=2.96, v_num=19]\n",
      "Validating: 0it [00:00, ?it/s]\u001b[A\n",
      "Validating:   0%|          | 0/2 [00:00<?, ?it/s]\u001b[A\n",
      "Epoch 2: 100%|██████████| 22/22 [00:04<00:00,  5.44it/s, loss=2.96, v_num=19]\n",
      "Epoch 2: 100%|██████████| 22/22 [00:04<00:00,  5.19it/s, loss=2.96, v_num=19]\n",
      "Epoch 3:  91%|█████████ | 20/22 [00:04<00:00,  4.64it/s, loss=3.06, v_num=19]\n",
      "Validating: 0it [00:00, ?it/s]\u001b[A\n",
      "Validating:   0%|          | 0/2 [00:00<?, ?it/s]\u001b[A\n",
      "Epoch 3: 100%|██████████| 22/22 [00:04<00:00,  4.88it/s, loss=3.06, v_num=19]\n",
      "Epoch 3: 100%|██████████| 22/22 [00:04<00:00,  4.69it/s, loss=3.06, v_num=19]\n",
      "Epoch 4:  91%|█████████ | 20/22 [00:04<00:00,  4.75it/s, loss=2.97, v_num=19]\n",
      "Validating: 0it [00:00, ?it/s]\u001b[A\n",
      "Validating:   0%|          | 0/2 [00:00<?, ?it/s]\u001b[A\n",
      "Epoch 4: 100%|██████████| 22/22 [00:04<00:00,  4.96it/s, loss=2.97, v_num=19]\n",
      "Epoch 4: 100%|██████████| 22/22 [00:04<00:00,  4.76it/s, loss=2.97, v_num=19]\n",
      "Epoch 4: 100%|██████████| 22/22 [00:04<00:00,  4.75it/s, loss=2.97, v_num=19]\n"
     ]
    }
   ],
   "source": [
    "trainer.fit(model, datamodule)"
   ]
  },
  {
   "cell_type": "code",
   "execution_count": 7,
   "id": "d2f24e14-d265-42f6-af71-38ea1e2c0f70",
   "metadata": {},
   "outputs": [
    {
     "name": "stdout",
     "output_type": "stream",
     "text": [
      "Testing: 100%|██████████| 4/4 [00:00<00:00,  5.04it/s]\n",
      "--------------------------------------------------------------------------------\n",
      "DATALOADER:0 TEST RESULTS\n",
      "{'test_loss': 2.481978416442871, 'test_metric': 0.75}\n",
      "--------------------------------------------------------------------------------\n"
     ]
    },
    {
     "data": {
      "text/plain": [
       "[{'test_metric': 0.75, 'test_loss': 2.481978416442871}]"
      ]
     },
     "execution_count": 7,
     "metadata": {},
     "output_type": "execute_result"
    }
   ],
   "source": [
    "trainer.test()"
   ]
  }
 ],
 "metadata": {
  "kernelspec": {
   "display_name": "Python 3",
   "language": "python",
   "name": "python3"
  },
  "language_info": {
   "codemirror_mode": {
    "name": "ipython",
    "version": 3
   },
   "file_extension": ".py",
   "mimetype": "text/x-python",
   "name": "python",
   "nbconvert_exporter": "python",
   "pygments_lexer": "ipython3",
   "version": "3.9.4"
  }
 },
 "nbformat": 4,
 "nbformat_minor": 5
}
