{
 "cells": [
  {
   "cell_type": "code",
   "execution_count": 1,
   "id": "ed97ed76-365f-44f5-9ec4-ee6d726a02f5",
   "metadata": {},
   "outputs": [],
   "source": [
    "import random\n",
    "from pathlib import Path\n",
    "from preprocessing import tokenize\n",
    "from collocations import make_graph, cosine_similarities\n",
    "from plotting import draw_graph"
   ]
  },
  {
   "cell_type": "code",
   "execution_count": 2,
   "id": "7c5eb889-de30-43e7-8273-9b2af723daf8",
   "metadata": {
    "tags": []
   },
   "outputs": [],
   "source": [
    "def read_all(directory):\n",
    "    return \"\\n\".join([file.read_text() for file in Path(directory).glob('*') if file.is_file()])\n",
    "\n",
    "def neighbourhood(graph, node, filter_function=lambda edges: edges):\n",
    "    edges = filter_function(graph.out_edges(node, data=True))\n",
    "    return graph.edge_subgraph([(edge[0], edge[1]) for edge in edges])\n",
    "\n",
    "def top_n_filter(n):\n",
    "    return lambda edges: sorted(edges, key=lambda item: item[2][\"weight\"], reverse=True)[:n]\n",
    "\n",
    "def draw(graph):\n",
    "    return draw_graph(graph, label_attribute=\"weight\", label_function=lambda x: f\"{x:.3f}\", width_attribute=\"weight\")"
   ]
  },
  {
   "cell_type": "code",
   "execution_count": 3,
   "id": "eac347cb-c0d4-4532-8fbc-60bc83118f1e",
   "metadata": {
    "tags": []
   },
   "outputs": [],
   "source": [
    "directory1, directory2 = \"data/1\", \"data/2\""
   ]
  },
  {
   "cell_type": "code",
   "execution_count": 4,
   "id": "0603c04d-ad4b-4cc5-88f3-2d5479c70768",
   "metadata": {},
   "outputs": [],
   "source": [
    "tokens, vocabulary = tokenize([read_all(directory1), read_all(directory2)])"
   ]
  },
  {
   "cell_type": "code",
   "execution_count": 5,
   "id": "947ed871-4253-413f-bb65-95dee48134a6",
   "metadata": {},
   "outputs": [],
   "source": [
    "G1 = make_graph(tokens[0], vocabulary)"
   ]
  },
  {
   "cell_type": "code",
   "execution_count": 6,
   "id": "f45ffccc-6fff-4503-b636-7d8b26308661",
   "metadata": {},
   "outputs": [],
   "source": [
    "G2 = make_graph(tokens[1], vocabulary)"
   ]
  },
  {
   "cell_type": "code",
   "execution_count": 7,
   "id": "4b53fe2f-1e59-4f9e-b1e5-c8dd898c4765",
   "metadata": {
    "tags": []
   },
   "outputs": [
    {
     "name": "stderr",
     "output_type": "stream",
     "text": [
      "100%|██████████| 18059/18059 [11:23<00:00, 26.42it/s]\n"
     ]
    }
   ],
   "source": [
    "similarities = cosine_similarities(G1, G2, vocabulary)\n",
    "similarities = sorted(similarities.items(), key=lambda item: item[1], reverse=True)"
   ]
  },
  {
   "cell_type": "code",
   "execution_count": 8,
   "id": "9b9320c1-a2f8-4dec-b897-52676c839e90",
   "metadata": {},
   "outputs": [],
   "source": [
    "node = random.choice([node for node, score in similarities if 1 > score > 0])"
   ]
  },
  {
   "cell_type": "code",
   "execution_count": 9,
   "id": "9b222765-f6e4-46c7-a174-f2020b4e3192",
   "metadata": {},
   "outputs": [
    {
     "data": {
      "text/html": [
       "\n",
       "        <iframe\n",
       "            width=\"510\"\n",
       "            height=\"510\"\n",
       "            src=\"data:text/html;charset=utf-8,%3Chtml%3E%0A%3Chead%3E%0A%3Clink%20rel%3D%22stylesheet%22%20href%3D%22https%3A//cdnjs.cloudflare.com/ajax/libs/vis/4.16.1/vis.css%22%20type%3D%22text/css%22%20/%3E%0A%3Cscript%20type%3D%22text/javascript%22%20src%3D%22https%3A//cdnjs.cloudflare.com/ajax/libs/vis/4.16.1/vis-network.min.js%22%3E%20%3C/script%3E%0A%3Ccenter%3E%0A%3Ch1%3E%3C/h1%3E%0A%3C/center%3E%0A%0A%3C%21--%20%3Clink%20rel%3D%22stylesheet%22%20href%3D%22../node_modules/vis/dist/vis.min.css%22%20type%3D%22text/css%22%20/%3E%0A%3Cscript%20type%3D%22text/javascript%22%20src%3D%22../node_modules/vis/dist/vis.js%22%3E%20%3C/script%3E--%3E%0A%0A%3Cstyle%20type%3D%22text/css%22%3E%0A%0A%20%20%20%20%20%20%20%20%23mynetwork%20%7B%0A%20%20%20%20%20%20%20%20%20%20%20%20width%3A%20500px%3B%0A%20%20%20%20%20%20%20%20%20%20%20%20height%3A%20500px%3B%0A%20%20%20%20%20%20%20%20%20%20%20%20background-color%3A%20%23ffffff%3B%0A%20%20%20%20%20%20%20%20%20%20%20%20border%3A%201px%20solid%20lightgray%3B%0A%20%20%20%20%20%20%20%20%20%20%20%20position%3A%20relative%3B%0A%20%20%20%20%20%20%20%20%20%20%20%20float%3A%20left%3B%0A%20%20%20%20%20%20%20%20%7D%0A%0A%20%20%20%20%20%20%20%20%0A%0A%20%20%20%20%20%20%20%20%0A%0A%20%20%20%20%20%20%20%20%0A%3C/style%3E%0A%0A%3C/head%3E%0A%0A%3Cbody%3E%0A%3Cdiv%20id%20%3D%20%22mynetwork%22%3E%3C/div%3E%0A%0A%0A%3Cscript%20type%3D%22text/javascript%22%3E%0A%0A%20%20%20%20//%20initialize%20global%20variables.%0A%20%20%20%20var%20edges%3B%0A%20%20%20%20var%20nodes%3B%0A%20%20%20%20var%20network%3B%20%0A%20%20%20%20var%20container%3B%0A%20%20%20%20var%20options%2C%20data%3B%0A%0A%20%20%20%20%0A%20%20%20%20//%20This%20method%20is%20responsible%20for%20drawing%20the%20graph%2C%20returns%20the%20drawn%20network%0A%20%20%20%20function%20drawGraph%28%29%20%7B%0A%20%20%20%20%20%20%20%20var%20container%20%3D%20document.getElementById%28%27mynetwork%27%29%3B%0A%20%20%20%20%20%20%20%20%0A%20%20%20%20%20%20%20%20%0A%0A%20%20%20%20%20%20%20%20//%20parsing%20and%20collecting%20nodes%20and%20edges%20from%20the%20python%0A%20%20%20%20%20%20%20%20nodes%20%3D%20new%20vis.DataSet%28%5B%7B%22id%22%3A%20%22previous%22%2C%20%22label%22%3A%20%22previous%22%2C%20%22shape%22%3A%20%22dot%22%2C%20%22size%22%3A%2010%7D%2C%20%7B%22id%22%3A%20%22prediction%22%2C%20%22label%22%3A%20%22prediction%22%2C%20%22shape%22%3A%20%22dot%22%2C%20%22size%22%3A%2010%7D%2C%20%7B%22id%22%3A%20%22stepmother%22%2C%20%22label%22%3A%20%22stepmother%22%2C%20%22shape%22%3A%20%22dot%22%2C%20%22size%22%3A%2010%7D%2C%20%7B%22id%22%3A%20%22repast%22%2C%20%22label%22%3A%20%22repast%22%2C%20%22shape%22%3A%20%22dot%22%2C%20%22size%22%3A%2010%7D%2C%20%7B%22id%22%3A%20%22experiences%22%2C%20%22label%22%3A%20%22experiences%22%2C%20%22shape%22%3A%20%22dot%22%2C%20%22size%22%3A%2010%7D%2C%20%7B%22id%22%3A%20%22geological%22%2C%20%22label%22%3A%20%22geological%22%2C%20%22shape%22%3A%20%22dot%22%2C%20%22size%22%3A%2010%7D%2C%20%7B%22id%22%3A%20%22entrance%22%2C%20%22label%22%3A%20%22entrance%22%2C%20%22shape%22%3A%20%22dot%22%2C%20%22size%22%3A%2010%7D%2C%20%7B%22id%22%3A%20%22connexion%22%2C%20%22label%22%3A%20%22connexion%22%2C%20%22shape%22%3A%20%22dot%22%2C%20%22size%22%3A%2010%7D%2C%20%7B%22id%22%3A%20%22dried%22%2C%20%22label%22%3A%20%22dried%22%2C%20%22shape%22%3A%20%22dot%22%2C%20%22size%22%3A%2010%7D%2C%20%7B%22id%22%3A%20%22descending%22%2C%20%22label%22%3A%20%22descending%22%2C%20%22shape%22%3A%20%22dot%22%2C%20%22size%22%3A%2010%7D%2C%20%7B%22id%22%3A%20%22page%22%2C%20%22label%22%3A%20%22page%22%2C%20%22shape%22%3A%20%22dot%22%2C%20%22size%22%3A%2010%7D%5D%29%3B%0A%20%20%20%20%20%20%20%20edges%20%3D%20new%20vis.DataSet%28%5B%7B%22arrows%22%3A%20%22to%22%2C%20%22from%22%3A%20%22previous%22%2C%20%22label%22%3A%20%220.028%22%2C%20%22to%22%3A%20%22prediction%22%2C%20%22value%22%3A%200.027777777777777776%2C%20%22weight%22%3A%200.027777777777777776%7D%2C%20%7B%22arrows%22%3A%20%22to%22%2C%20%22from%22%3A%20%22previous%22%2C%20%22label%22%3A%20%220.027%22%2C%20%22to%22%3A%20%22stepmother%22%2C%20%22value%22%3A%200.02702702702702703%2C%20%22weight%22%3A%200.02702702702702703%7D%2C%20%7B%22arrows%22%3A%20%22to%22%2C%20%22from%22%3A%20%22previous%22%2C%20%22label%22%3A%20%220.026%22%2C%20%22to%22%3A%20%22repast%22%2C%20%22value%22%3A%200.02631578947368421%2C%20%22weight%22%3A%200.02631578947368421%7D%2C%20%7B%22arrows%22%3A%20%22to%22%2C%20%22from%22%3A%20%22previous%22%2C%20%22label%22%3A%20%220.025%22%2C%20%22to%22%3A%20%22experiences%22%2C%20%22value%22%3A%200.025%2C%20%22weight%22%3A%200.025%7D%2C%20%7B%22arrows%22%3A%20%22to%22%2C%20%22from%22%3A%20%22previous%22%2C%20%22label%22%3A%20%220.025%22%2C%20%22to%22%3A%20%22geological%22%2C%20%22value%22%3A%200.025%2C%20%22weight%22%3A%200.025%7D%2C%20%7B%22arrows%22%3A%20%22to%22%2C%20%22from%22%3A%20%22previous%22%2C%20%22label%22%3A%20%220.024%22%2C%20%22to%22%3A%20%22entrance%22%2C%20%22value%22%3A%200.024390243902439025%2C%20%22weight%22%3A%200.024390243902439025%7D%2C%20%7B%22arrows%22%3A%20%22to%22%2C%20%22from%22%3A%20%22previous%22%2C%20%22label%22%3A%20%220.023%22%2C%20%22to%22%3A%20%22connexion%22%2C%20%22value%22%3A%200.023255813953488372%2C%20%22weight%22%3A%200.023255813953488372%7D%2C%20%7B%22arrows%22%3A%20%22to%22%2C%20%22from%22%3A%20%22previous%22%2C%20%22label%22%3A%20%220.023%22%2C%20%22to%22%3A%20%22dried%22%2C%20%22value%22%3A%200.023255813953488372%2C%20%22weight%22%3A%200.023255813953488372%7D%2C%20%7B%22arrows%22%3A%20%22to%22%2C%20%22from%22%3A%20%22previous%22%2C%20%22label%22%3A%20%220.022%22%2C%20%22to%22%3A%20%22descending%22%2C%20%22value%22%3A%200.022222222222222223%2C%20%22weight%22%3A%200.022222222222222223%7D%2C%20%7B%22arrows%22%3A%20%22to%22%2C%20%22from%22%3A%20%22previous%22%2C%20%22label%22%3A%20%220.022%22%2C%20%22to%22%3A%20%22page%22%2C%20%22value%22%3A%200.022222222222222223%2C%20%22weight%22%3A%200.022222222222222223%7D%5D%29%3B%0A%0A%20%20%20%20%20%20%20%20//%20adding%20nodes%20and%20edges%20to%20the%20graph%0A%20%20%20%20%20%20%20%20data%20%3D%20%7Bnodes%3A%20nodes%2C%20edges%3A%20edges%7D%3B%0A%0A%20%20%20%20%20%20%20%20var%20options%20%3D%20%7B%0A%20%20%20%20%22configure%22%3A%20%7B%0A%20%20%20%20%20%20%20%20%22enabled%22%3A%20false%0A%20%20%20%20%7D%2C%0A%20%20%20%20%22edges%22%3A%20%7B%0A%20%20%20%20%20%20%20%20%22color%22%3A%20%7B%0A%20%20%20%20%20%20%20%20%20%20%20%20%22inherit%22%3A%20true%0A%20%20%20%20%20%20%20%20%7D%2C%0A%20%20%20%20%20%20%20%20%22smooth%22%3A%20%7B%0A%20%20%20%20%20%20%20%20%20%20%20%20%22enabled%22%3A%20false%2C%0A%20%20%20%20%20%20%20%20%20%20%20%20%22type%22%3A%20%22continuous%22%0A%20%20%20%20%20%20%20%20%7D%0A%20%20%20%20%7D%2C%0A%20%20%20%20%22interaction%22%3A%20%7B%0A%20%20%20%20%20%20%20%20%22dragNodes%22%3A%20true%2C%0A%20%20%20%20%20%20%20%20%22hideEdgesOnDrag%22%3A%20false%2C%0A%20%20%20%20%20%20%20%20%22hideNodesOnDrag%22%3A%20false%0A%20%20%20%20%7D%2C%0A%20%20%20%20%22physics%22%3A%20%7B%0A%20%20%20%20%20%20%20%20%22enabled%22%3A%20true%2C%0A%20%20%20%20%20%20%20%20%22stabilization%22%3A%20%7B%0A%20%20%20%20%20%20%20%20%20%20%20%20%22enabled%22%3A%20true%2C%0A%20%20%20%20%20%20%20%20%20%20%20%20%22fit%22%3A%20true%2C%0A%20%20%20%20%20%20%20%20%20%20%20%20%22iterations%22%3A%201000%2C%0A%20%20%20%20%20%20%20%20%20%20%20%20%22onlyDynamicEdges%22%3A%20false%2C%0A%20%20%20%20%20%20%20%20%20%20%20%20%22updateInterval%22%3A%2050%0A%20%20%20%20%20%20%20%20%7D%0A%20%20%20%20%7D%0A%7D%3B%0A%20%20%20%20%20%20%20%20%0A%20%20%20%20%20%20%20%20%0A%0A%20%20%20%20%20%20%20%20%0A%0A%20%20%20%20%20%20%20%20network%20%3D%20new%20vis.Network%28container%2C%20data%2C%20options%29%3B%0A%09%20%0A%20%20%20%20%20%20%20%20%0A%0A%0A%20%20%20%20%20%20%20%20%0A%0A%20%20%20%20%20%20%20%20return%20network%3B%0A%0A%20%20%20%20%7D%0A%0A%20%20%20%20drawGraph%28%29%3B%0A%0A%3C/script%3E%0A%3C/body%3E%0A%3C/html%3E\"\n",
       "            frameborder=\"0\"\n",
       "            allowfullscreen\n",
       "            \n",
       "        ></iframe>\n",
       "        "
      ],
      "text/plain": [
       "<IPython.lib.display.IFrame at 0x7fd0ff6b1ca0>"
      ]
     },
     "execution_count": 9,
     "metadata": {},
     "output_type": "execute_result"
    }
   ],
   "source": [
    "draw(neighbourhood(G1, node, filter_function=top_n_filter(10)))"
   ]
  },
  {
   "cell_type": "code",
   "execution_count": 10,
   "id": "7e6a9ddd-94d6-4502-993d-ce2657a06506",
   "metadata": {},
   "outputs": [
    {
     "data": {
      "text/html": [
       "\n",
       "        <iframe\n",
       "            width=\"510\"\n",
       "            height=\"510\"\n",
       "            src=\"data:text/html;charset=utf-8,%3Chtml%3E%0A%3Chead%3E%0A%3Clink%20rel%3D%22stylesheet%22%20href%3D%22https%3A//cdnjs.cloudflare.com/ajax/libs/vis/4.16.1/vis.css%22%20type%3D%22text/css%22%20/%3E%0A%3Cscript%20type%3D%22text/javascript%22%20src%3D%22https%3A//cdnjs.cloudflare.com/ajax/libs/vis/4.16.1/vis-network.min.js%22%3E%20%3C/script%3E%0A%3Ccenter%3E%0A%3Ch1%3E%3C/h1%3E%0A%3C/center%3E%0A%0A%3C%21--%20%3Clink%20rel%3D%22stylesheet%22%20href%3D%22../node_modules/vis/dist/vis.min.css%22%20type%3D%22text/css%22%20/%3E%0A%3Cscript%20type%3D%22text/javascript%22%20src%3D%22../node_modules/vis/dist/vis.js%22%3E%20%3C/script%3E--%3E%0A%0A%3Cstyle%20type%3D%22text/css%22%3E%0A%0A%20%20%20%20%20%20%20%20%23mynetwork%20%7B%0A%20%20%20%20%20%20%20%20%20%20%20%20width%3A%20500px%3B%0A%20%20%20%20%20%20%20%20%20%20%20%20height%3A%20500px%3B%0A%20%20%20%20%20%20%20%20%20%20%20%20background-color%3A%20%23ffffff%3B%0A%20%20%20%20%20%20%20%20%20%20%20%20border%3A%201px%20solid%20lightgray%3B%0A%20%20%20%20%20%20%20%20%20%20%20%20position%3A%20relative%3B%0A%20%20%20%20%20%20%20%20%20%20%20%20float%3A%20left%3B%0A%20%20%20%20%20%20%20%20%7D%0A%0A%20%20%20%20%20%20%20%20%0A%0A%20%20%20%20%20%20%20%20%0A%0A%20%20%20%20%20%20%20%20%0A%3C/style%3E%0A%0A%3C/head%3E%0A%0A%3Cbody%3E%0A%3Cdiv%20id%20%3D%20%22mynetwork%22%3E%3C/div%3E%0A%0A%0A%3Cscript%20type%3D%22text/javascript%22%3E%0A%0A%20%20%20%20//%20initialize%20global%20variables.%0A%20%20%20%20var%20edges%3B%0A%20%20%20%20var%20nodes%3B%0A%20%20%20%20var%20network%3B%20%0A%20%20%20%20var%20container%3B%0A%20%20%20%20var%20options%2C%20data%3B%0A%0A%20%20%20%20%0A%20%20%20%20//%20This%20method%20is%20responsible%20for%20drawing%20the%20graph%2C%20returns%20the%20drawn%20network%0A%20%20%20%20function%20drawGraph%28%29%20%7B%0A%20%20%20%20%20%20%20%20var%20container%20%3D%20document.getElementById%28%27mynetwork%27%29%3B%0A%20%20%20%20%20%20%20%20%0A%20%20%20%20%20%20%20%20%0A%0A%20%20%20%20%20%20%20%20//%20parsing%20and%20collecting%20nodes%20and%20edges%20from%20the%20python%0A%20%20%20%20%20%20%20%20nodes%20%3D%20new%20vis.DataSet%28%5B%7B%22id%22%3A%20%22previous%22%2C%20%22label%22%3A%20%22previous%22%2C%20%22shape%22%3A%20%22dot%22%2C%20%22size%22%3A%2010%7D%2C%20%7B%22id%22%3A%20%22old%22%2C%20%22label%22%3A%20%22old%22%2C%20%22shape%22%3A%20%22dot%22%2C%20%22size%22%3A%2010%7D%2C%20%7B%22id%22%3A%20%22morning%22%2C%20%22label%22%3A%20%22morning%22%2C%20%22shape%22%3A%20%22dot%22%2C%20%22size%22%3A%2010%7D%5D%29%3B%0A%20%20%20%20%20%20%20%20edges%20%3D%20new%20vis.DataSet%28%5B%7B%22arrows%22%3A%20%22to%22%2C%20%22from%22%3A%20%22previous%22%2C%20%22label%22%3A%20%220.067%22%2C%20%22to%22%3A%20%22old%22%2C%20%22value%22%3A%200.06666666666666667%2C%20%22weight%22%3A%200.06666666666666667%7D%2C%20%7B%22arrows%22%3A%20%22to%22%2C%20%22from%22%3A%20%22previous%22%2C%20%22label%22%3A%20%220.043%22%2C%20%22to%22%3A%20%22morning%22%2C%20%22value%22%3A%200.043478260869565216%2C%20%22weight%22%3A%200.043478260869565216%7D%5D%29%3B%0A%0A%20%20%20%20%20%20%20%20//%20adding%20nodes%20and%20edges%20to%20the%20graph%0A%20%20%20%20%20%20%20%20data%20%3D%20%7Bnodes%3A%20nodes%2C%20edges%3A%20edges%7D%3B%0A%0A%20%20%20%20%20%20%20%20var%20options%20%3D%20%7B%0A%20%20%20%20%22configure%22%3A%20%7B%0A%20%20%20%20%20%20%20%20%22enabled%22%3A%20false%0A%20%20%20%20%7D%2C%0A%20%20%20%20%22edges%22%3A%20%7B%0A%20%20%20%20%20%20%20%20%22color%22%3A%20%7B%0A%20%20%20%20%20%20%20%20%20%20%20%20%22inherit%22%3A%20true%0A%20%20%20%20%20%20%20%20%7D%2C%0A%20%20%20%20%20%20%20%20%22smooth%22%3A%20%7B%0A%20%20%20%20%20%20%20%20%20%20%20%20%22enabled%22%3A%20false%2C%0A%20%20%20%20%20%20%20%20%20%20%20%20%22type%22%3A%20%22continuous%22%0A%20%20%20%20%20%20%20%20%7D%0A%20%20%20%20%7D%2C%0A%20%20%20%20%22interaction%22%3A%20%7B%0A%20%20%20%20%20%20%20%20%22dragNodes%22%3A%20true%2C%0A%20%20%20%20%20%20%20%20%22hideEdgesOnDrag%22%3A%20false%2C%0A%20%20%20%20%20%20%20%20%22hideNodesOnDrag%22%3A%20false%0A%20%20%20%20%7D%2C%0A%20%20%20%20%22physics%22%3A%20%7B%0A%20%20%20%20%20%20%20%20%22enabled%22%3A%20true%2C%0A%20%20%20%20%20%20%20%20%22stabilization%22%3A%20%7B%0A%20%20%20%20%20%20%20%20%20%20%20%20%22enabled%22%3A%20true%2C%0A%20%20%20%20%20%20%20%20%20%20%20%20%22fit%22%3A%20true%2C%0A%20%20%20%20%20%20%20%20%20%20%20%20%22iterations%22%3A%201000%2C%0A%20%20%20%20%20%20%20%20%20%20%20%20%22onlyDynamicEdges%22%3A%20false%2C%0A%20%20%20%20%20%20%20%20%20%20%20%20%22updateInterval%22%3A%2050%0A%20%20%20%20%20%20%20%20%7D%0A%20%20%20%20%7D%0A%7D%3B%0A%20%20%20%20%20%20%20%20%0A%20%20%20%20%20%20%20%20%0A%0A%20%20%20%20%20%20%20%20%0A%0A%20%20%20%20%20%20%20%20network%20%3D%20new%20vis.Network%28container%2C%20data%2C%20options%29%3B%0A%09%20%0A%20%20%20%20%20%20%20%20%0A%0A%0A%20%20%20%20%20%20%20%20%0A%0A%20%20%20%20%20%20%20%20return%20network%3B%0A%0A%20%20%20%20%7D%0A%0A%20%20%20%20drawGraph%28%29%3B%0A%0A%3C/script%3E%0A%3C/body%3E%0A%3C/html%3E\"\n",
       "            frameborder=\"0\"\n",
       "            allowfullscreen\n",
       "            \n",
       "        ></iframe>\n",
       "        "
      ],
      "text/plain": [
       "<IPython.lib.display.IFrame at 0x7fd0c07ff970>"
      ]
     },
     "execution_count": 10,
     "metadata": {},
     "output_type": "execute_result"
    }
   ],
   "source": [
    "draw(neighbourhood(G2, node, filter_function=top_n_filter(10)))"
   ]
  }
 ],
 "metadata": {
  "kernelspec": {
   "display_name": "Python 3 (ipykernel)",
   "language": "python",
   "name": "python3"
  },
  "language_info": {
   "codemirror_mode": {
    "name": "ipython",
    "version": 3
   },
   "file_extension": ".py",
   "mimetype": "text/x-python",
   "name": "python",
   "nbconvert_exporter": "python",
   "pygments_lexer": "ipython3",
   "version": "3.9.7"
  }
 },
 "nbformat": 4,
 "nbformat_minor": 5
}
