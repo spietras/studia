{
 "cells": [
  {
   "cell_type": "code",
   "execution_count": 1,
   "id": "ed97ed76-365f-44f5-9ec4-ee6d726a02f5",
   "metadata": {},
   "outputs": [],
   "source": [
    "import random\n",
    "from pathlib import Path\n",
    "from preprocessing import clean_gutenberg, tokenize\n",
    "from collocations import make_graph, cosine_similarities\n",
    "from plotting import draw_graph"
   ]
  },
  {
   "cell_type": "code",
   "execution_count": 2,
   "id": "7c5eb889-de30-43e7-8273-9b2af723daf8",
   "metadata": {
    "tags": []
   },
   "outputs": [],
   "source": [
    "def read_all(directory):\n",
    "    return [file.read_text() for file in Path(directory).glob('*') if file.is_file()]\n",
    "\n",
    "def flatten(lst):\n",
    "    return [x for ls in lst for x in ls]\n",
    "\n",
    "def neighbourhood(graph, node, filter_function=lambda edges: edges):\n",
    "    edges = filter_function(graph.out_edges(node, data=True))\n",
    "    return graph.edge_subgraph([(edge[0], edge[1]) for edge in edges])\n",
    "\n",
    "def top_n_filter(n):\n",
    "    return lambda edges: sorted(edges, key=lambda item: item[2][\"weight\"], reverse=True)[:n]\n",
    "\n",
    "def draw(graph):\n",
    "    return draw_graph(graph, label_attribute=\"weight\", label_function=lambda x: f\"{x:.3f}\", width_attribute=\"weight\")"
   ]
  },
  {
   "cell_type": "code",
   "execution_count": 3,
   "id": "eac347cb-c0d4-4532-8fbc-60bc83118f1e",
   "metadata": {
    "tags": []
   },
   "outputs": [
    {
     "data": {
      "application/vnd.jupyter.widget-view+json": {
       "model_id": "da8963361727489eae7782a7a087239a",
       "version_major": 2,
       "version_minor": 0
      },
      "text/plain": [
       "0it [00:00, ?it/s]"
      ]
     },
     "metadata": {},
     "output_type": "display_data"
    },
    {
     "data": {
      "application/vnd.jupyter.widget-view+json": {
       "model_id": "b06be7a08c2343deb603db50d2fa3d96",
       "version_major": 2,
       "version_minor": 0
      },
      "text/plain": [
       "0it [00:00, ?it/s]"
      ]
     },
     "metadata": {},
     "output_type": "display_data"
    },
    {
     "data": {
      "application/vnd.jupyter.widget-view+json": {
       "model_id": "8a3ec57bf6c74d699896fc65067fe05e",
       "version_major": 2,
       "version_minor": 0
      },
      "text/plain": [
       "0it [00:00, ?it/s]"
      ]
     },
     "metadata": {},
     "output_type": "display_data"
    },
    {
     "data": {
      "application/vnd.jupyter.widget-view+json": {
       "model_id": "8fccf68467d24e26b5bf578238661825",
       "version_major": 2,
       "version_minor": 0
      },
      "text/plain": [
       "0it [00:00, ?it/s]"
      ]
     },
     "metadata": {},
     "output_type": "display_data"
    },
    {
     "data": {
      "application/vnd.jupyter.widget-view+json": {
       "model_id": "53e8126db7ad464d96b25fdd5f5ec50c",
       "version_major": 2,
       "version_minor": 0
      },
      "text/plain": [
       "0it [00:00, ?it/s]"
      ]
     },
     "metadata": {},
     "output_type": "display_data"
    },
    {
     "data": {
      "application/vnd.jupyter.widget-view+json": {
       "model_id": "17d10857780045f8806d6b6a25c51929",
       "version_major": 2,
       "version_minor": 0
      },
      "text/plain": [
       "0it [00:00, ?it/s]"
      ]
     },
     "metadata": {},
     "output_type": "display_data"
    },
    {
     "data": {
      "application/vnd.jupyter.widget-view+json": {
       "model_id": "97bce9d47edf4fd78bb79bda01fc1aa5",
       "version_major": 2,
       "version_minor": 0
      },
      "text/plain": [
       "0it [00:00, ?it/s]"
      ]
     },
     "metadata": {},
     "output_type": "display_data"
    },
    {
     "data": {
      "application/vnd.jupyter.widget-view+json": {
       "model_id": "324da20d64b64fcbbd39a2ae4e7e6f52",
       "version_major": 2,
       "version_minor": 0
      },
      "text/plain": [
       "0it [00:00, ?it/s]"
      ]
     },
     "metadata": {},
     "output_type": "display_data"
    }
   ],
   "source": [
    "tokens1, vocabulary1 = tokenize(clean_gutenberg(text) for text in read_all(\"data/1\"))"
   ]
  },
  {
   "cell_type": "code",
   "execution_count": 4,
   "id": "acda3ef8-7de9-4e8f-82f6-a3cdc26f5a70",
   "metadata": {},
   "outputs": [
    {
     "data": {
      "application/vnd.jupyter.widget-view+json": {
       "model_id": "d6869d47aeff42d282a38202114f6bef",
       "version_major": 2,
       "version_minor": 0
      },
      "text/plain": [
       "0it [00:00, ?it/s]"
      ]
     },
     "metadata": {},
     "output_type": "display_data"
    },
    {
     "data": {
      "application/vnd.jupyter.widget-view+json": {
       "model_id": "64f465f5250b411389b29bec407b4b86",
       "version_major": 2,
       "version_minor": 0
      },
      "text/plain": [
       "0it [00:00, ?it/s]"
      ]
     },
     "metadata": {},
     "output_type": "display_data"
    },
    {
     "data": {
      "application/vnd.jupyter.widget-view+json": {
       "model_id": "7221a31976de4a2dbf23e1ac51284473",
       "version_major": 2,
       "version_minor": 0
      },
      "text/plain": [
       "0it [00:00, ?it/s]"
      ]
     },
     "metadata": {},
     "output_type": "display_data"
    },
    {
     "data": {
      "application/vnd.jupyter.widget-view+json": {
       "model_id": "724085b88bbf429aaf11fcff7190033f",
       "version_major": 2,
       "version_minor": 0
      },
      "text/plain": [
       "0it [00:00, ?it/s]"
      ]
     },
     "metadata": {},
     "output_type": "display_data"
    },
    {
     "data": {
      "application/vnd.jupyter.widget-view+json": {
       "model_id": "05eba73d85f8474c8d1666db2a7eed75",
       "version_major": 2,
       "version_minor": 0
      },
      "text/plain": [
       "0it [00:00, ?it/s]"
      ]
     },
     "metadata": {},
     "output_type": "display_data"
    },
    {
     "data": {
      "application/vnd.jupyter.widget-view+json": {
       "model_id": "bee51f9f39ad4de7b29568f105a5ebc9",
       "version_major": 2,
       "version_minor": 0
      },
      "text/plain": [
       "0it [00:00, ?it/s]"
      ]
     },
     "metadata": {},
     "output_type": "display_data"
    },
    {
     "data": {
      "application/vnd.jupyter.widget-view+json": {
       "model_id": "b6ec93405ba740978d82bcf40e5231b4",
       "version_major": 2,
       "version_minor": 0
      },
      "text/plain": [
       "0it [00:00, ?it/s]"
      ]
     },
     "metadata": {},
     "output_type": "display_data"
    },
    {
     "data": {
      "application/vnd.jupyter.widget-view+json": {
       "model_id": "eda1fbe89da74b7cae1ad67707c9b782",
       "version_major": 2,
       "version_minor": 0
      },
      "text/plain": [
       "0it [00:00, ?it/s]"
      ]
     },
     "metadata": {},
     "output_type": "display_data"
    },
    {
     "data": {
      "application/vnd.jupyter.widget-view+json": {
       "model_id": "c0bb16426d734748907f71bc11fc1f24",
       "version_major": 2,
       "version_minor": 0
      },
      "text/plain": [
       "0it [00:00, ?it/s]"
      ]
     },
     "metadata": {},
     "output_type": "display_data"
    },
    {
     "data": {
      "application/vnd.jupyter.widget-view+json": {
       "model_id": "93734ad9e3094e559c9ac07b302253db",
       "version_major": 2,
       "version_minor": 0
      },
      "text/plain": [
       "0it [00:00, ?it/s]"
      ]
     },
     "metadata": {},
     "output_type": "display_data"
    }
   ],
   "source": [
    "tokens2, vocabulary2 = tokenize(clean_gutenberg(text) for text in read_all(\"data/2\"))"
   ]
  },
  {
   "cell_type": "code",
   "execution_count": 5,
   "id": "0603c04d-ad4b-4cc5-88f3-2d5479c70768",
   "metadata": {},
   "outputs": [],
   "source": [
    "vocabulary = sorted(set(vocabulary1) | set(vocabulary2))"
   ]
  },
  {
   "cell_type": "code",
   "execution_count": 6,
   "id": "947ed871-4253-413f-bb65-95dee48134a6",
   "metadata": {},
   "outputs": [],
   "source": [
    "G1 = make_graph(flatten(tokens1), vocabulary)"
   ]
  },
  {
   "cell_type": "code",
   "execution_count": 7,
   "id": "f45ffccc-6fff-4503-b636-7d8b26308661",
   "metadata": {},
   "outputs": [],
   "source": [
    "G2 = make_graph(flatten(tokens2), vocabulary)"
   ]
  },
  {
   "cell_type": "code",
   "execution_count": 8,
   "id": "4b53fe2f-1e59-4f9e-b1e5-c8dd898c4765",
   "metadata": {
    "tags": []
   },
   "outputs": [
    {
     "data": {
      "application/vnd.jupyter.widget-view+json": {
       "model_id": "84d52692855046979b01c1c67fbaa575",
       "version_major": 2,
       "version_minor": 0
      },
      "text/plain": [
       "  0%|          | 0/40774 [00:00<?, ?it/s]"
      ]
     },
     "metadata": {},
     "output_type": "display_data"
    }
   ],
   "source": [
    "similarities = cosine_similarities(G1, G2, vocabulary)\n",
    "similarities = sorted(similarities.items(), key=lambda item: item[1], reverse=True)"
   ]
  },
  {
   "cell_type": "code",
   "execution_count": 9,
   "id": "9b9320c1-a2f8-4dec-b897-52676c839e90",
   "metadata": {},
   "outputs": [],
   "source": [
    "node, score = random.choice([(node, score) for node, score in similarities if 1 > score > 0])"
   ]
  },
  {
   "cell_type": "code",
   "execution_count": 10,
   "id": "49963197-51a9-4702-b9d3-ec91b69ec981",
   "metadata": {},
   "outputs": [
    {
     "data": {
      "text/plain": [
       "8.031943988616672e-05"
      ]
     },
     "execution_count": 10,
     "metadata": {},
     "output_type": "execute_result"
    }
   ],
   "source": [
    "score"
   ]
  },
  {
   "cell_type": "code",
   "execution_count": 11,
   "id": "9b222765-f6e4-46c7-a174-f2020b4e3192",
   "metadata": {},
   "outputs": [
    {
     "data": {
      "text/html": [
       "\n",
       "        <iframe\n",
       "            width=\"510\"\n",
       "            height=\"510\"\n",
       "            src=\"data:text/html;charset=utf-8,%3Chtml%3E%0A%3Chead%3E%0A%3Clink%20rel%3D%22stylesheet%22%20href%3D%22https%3A//cdnjs.cloudflare.com/ajax/libs/vis/4.16.1/vis.css%22%20type%3D%22text/css%22%20/%3E%0A%3Cscript%20type%3D%22text/javascript%22%20src%3D%22https%3A//cdnjs.cloudflare.com/ajax/libs/vis/4.16.1/vis-network.min.js%22%3E%20%3C/script%3E%0A%3Ccenter%3E%0A%3Ch1%3E%3C/h1%3E%0A%3C/center%3E%0A%0A%3C%21--%20%3Clink%20rel%3D%22stylesheet%22%20href%3D%22../node_modules/vis/dist/vis.min.css%22%20type%3D%22text/css%22%20/%3E%0A%3Cscript%20type%3D%22text/javascript%22%20src%3D%22../node_modules/vis/dist/vis.js%22%3E%20%3C/script%3E--%3E%0A%0A%3Cstyle%20type%3D%22text/css%22%3E%0A%0A%20%20%20%20%20%20%20%20%23mynetwork%20%7B%0A%20%20%20%20%20%20%20%20%20%20%20%20width%3A%20500px%3B%0A%20%20%20%20%20%20%20%20%20%20%20%20height%3A%20500px%3B%0A%20%20%20%20%20%20%20%20%20%20%20%20background-color%3A%20%23ffffff%3B%0A%20%20%20%20%20%20%20%20%20%20%20%20border%3A%201px%20solid%20lightgray%3B%0A%20%20%20%20%20%20%20%20%20%20%20%20position%3A%20relative%3B%0A%20%20%20%20%20%20%20%20%20%20%20%20float%3A%20left%3B%0A%20%20%20%20%20%20%20%20%7D%0A%0A%20%20%20%20%20%20%20%20%0A%0A%20%20%20%20%20%20%20%20%0A%0A%20%20%20%20%20%20%20%20%0A%3C/style%3E%0A%0A%3C/head%3E%0A%0A%3Cbody%3E%0A%3Cdiv%20id%20%3D%20%22mynetwork%22%3E%3C/div%3E%0A%0A%0A%3Cscript%20type%3D%22text/javascript%22%3E%0A%0A%20%20%20%20//%20initialize%20global%20variables.%0A%20%20%20%20var%20edges%3B%0A%20%20%20%20var%20nodes%3B%0A%20%20%20%20var%20network%3B%20%0A%20%20%20%20var%20container%3B%0A%20%20%20%20var%20options%2C%20data%3B%0A%0A%20%20%20%20%0A%20%20%20%20//%20This%20method%20is%20responsible%20for%20drawing%20the%20graph%2C%20returns%20the%20drawn%20network%0A%20%20%20%20function%20drawGraph%28%29%20%7B%0A%20%20%20%20%20%20%20%20var%20container%20%3D%20document.getElementById%28%27mynetwork%27%29%3B%0A%20%20%20%20%20%20%20%20%0A%20%20%20%20%20%20%20%20%0A%0A%20%20%20%20%20%20%20%20//%20parsing%20and%20collecting%20nodes%20and%20edges%20from%20the%20python%0A%20%20%20%20%20%20%20%20nodes%20%3D%20new%20vis.DataSet%28%5B%7B%22id%22%3A%20%22scripture%22%2C%20%22label%22%3A%20%22scripture%22%2C%20%22shape%22%3A%20%22dot%22%2C%20%22size%22%3A%2010%7D%2C%20%7B%22id%22%3A%20%22loyal%22%2C%20%22label%22%3A%20%22loyal%22%2C%20%22shape%22%3A%20%22dot%22%2C%20%22size%22%3A%2010%7D%2C%20%7B%22id%22%3A%20%22oft%22%2C%20%22label%22%3A%20%22oft%22%2C%20%22shape%22%3A%20%22dot%22%2C%20%22size%22%3A%2010%7D%2C%20%7B%22id%22%3A%20%22purpose%22%2C%20%22label%22%3A%20%22purpose%22%2C%20%22shape%22%3A%20%22dot%22%2C%20%22size%22%3A%2010%7D%2C%20%7B%22id%22%3A%20%22say%22%2C%20%22label%22%3A%20%22say%22%2C%20%22shape%22%3A%20%22dot%22%2C%20%22size%22%3A%2010%7D%2C%20%7B%22id%22%3A%20%22tell%22%2C%20%22label%22%3A%20%22tell%22%2C%20%22shape%22%3A%20%22dot%22%2C%20%22size%22%3A%2010%7D%5D%29%3B%0A%20%20%20%20%20%20%20%20edges%20%3D%20new%20vis.DataSet%28%5B%7B%22arrows%22%3A%20%22to%22%2C%20%22from%22%3A%20%22scripture%22%2C%20%22label%22%3A%20%220.025%22%2C%20%22to%22%3A%20%22loyal%22%2C%20%22value%22%3A%200.025%2C%20%22weight%22%3A%200.025%7D%2C%20%7B%22arrows%22%3A%20%22to%22%2C%20%22from%22%3A%20%22scripture%22%2C%20%22label%22%3A%20%220.006%22%2C%20%22to%22%3A%20%22oft%22%2C%20%22value%22%3A%200.006060606060606061%2C%20%22weight%22%3A%200.006060606060606061%7D%2C%20%7B%22arrows%22%3A%20%22to%22%2C%20%22from%22%3A%20%22scripture%22%2C%20%22label%22%3A%20%220.003%22%2C%20%22to%22%3A%20%22purpose%22%2C%20%22value%22%3A%200.0033333333333333335%2C%20%22weight%22%3A%200.0033333333333333335%7D%2C%20%7B%22arrows%22%3A%20%22to%22%2C%20%22from%22%3A%20%22scripture%22%2C%20%22label%22%3A%20%220.001%22%2C%20%22to%22%3A%20%22say%22%2C%20%22value%22%3A%200.0011890606420927466%2C%20%22weight%22%3A%200.0011890606420927466%7D%2C%20%7B%22arrows%22%3A%20%22to%22%2C%20%22from%22%3A%20%22scripture%22%2C%20%22label%22%3A%20%220.001%22%2C%20%22to%22%3A%20%22tell%22%2C%20%22value%22%3A%200.0005733944954128441%2C%20%22weight%22%3A%200.0005733944954128441%7D%5D%29%3B%0A%0A%20%20%20%20%20%20%20%20//%20adding%20nodes%20and%20edges%20to%20the%20graph%0A%20%20%20%20%20%20%20%20data%20%3D%20%7Bnodes%3A%20nodes%2C%20edges%3A%20edges%7D%3B%0A%0A%20%20%20%20%20%20%20%20var%20options%20%3D%20%7B%0A%20%20%20%20%22configure%22%3A%20%7B%0A%20%20%20%20%20%20%20%20%22enabled%22%3A%20false%0A%20%20%20%20%7D%2C%0A%20%20%20%20%22edges%22%3A%20%7B%0A%20%20%20%20%20%20%20%20%22color%22%3A%20%7B%0A%20%20%20%20%20%20%20%20%20%20%20%20%22inherit%22%3A%20true%0A%20%20%20%20%20%20%20%20%7D%2C%0A%20%20%20%20%20%20%20%20%22smooth%22%3A%20%7B%0A%20%20%20%20%20%20%20%20%20%20%20%20%22enabled%22%3A%20false%2C%0A%20%20%20%20%20%20%20%20%20%20%20%20%22type%22%3A%20%22continuous%22%0A%20%20%20%20%20%20%20%20%7D%0A%20%20%20%20%7D%2C%0A%20%20%20%20%22interaction%22%3A%20%7B%0A%20%20%20%20%20%20%20%20%22dragNodes%22%3A%20true%2C%0A%20%20%20%20%20%20%20%20%22hideEdgesOnDrag%22%3A%20false%2C%0A%20%20%20%20%20%20%20%20%22hideNodesOnDrag%22%3A%20false%0A%20%20%20%20%7D%2C%0A%20%20%20%20%22physics%22%3A%20%7B%0A%20%20%20%20%20%20%20%20%22enabled%22%3A%20true%2C%0A%20%20%20%20%20%20%20%20%22stabilization%22%3A%20%7B%0A%20%20%20%20%20%20%20%20%20%20%20%20%22enabled%22%3A%20true%2C%0A%20%20%20%20%20%20%20%20%20%20%20%20%22fit%22%3A%20true%2C%0A%20%20%20%20%20%20%20%20%20%20%20%20%22iterations%22%3A%201000%2C%0A%20%20%20%20%20%20%20%20%20%20%20%20%22onlyDynamicEdges%22%3A%20false%2C%0A%20%20%20%20%20%20%20%20%20%20%20%20%22updateInterval%22%3A%2050%0A%20%20%20%20%20%20%20%20%7D%0A%20%20%20%20%7D%0A%7D%3B%0A%20%20%20%20%20%20%20%20%0A%20%20%20%20%20%20%20%20%0A%0A%20%20%20%20%20%20%20%20%0A%0A%20%20%20%20%20%20%20%20network%20%3D%20new%20vis.Network%28container%2C%20data%2C%20options%29%3B%0A%09%20%0A%20%20%20%20%20%20%20%20%0A%0A%0A%20%20%20%20%20%20%20%20%0A%0A%20%20%20%20%20%20%20%20return%20network%3B%0A%0A%20%20%20%20%7D%0A%0A%20%20%20%20drawGraph%28%29%3B%0A%0A%3C/script%3E%0A%3C/body%3E%0A%3C/html%3E\"\n",
       "            frameborder=\"0\"\n",
       "            allowfullscreen\n",
       "            \n",
       "        ></iframe>\n",
       "        "
      ],
      "text/plain": [
       "<IPython.lib.display.IFrame at 0x7fafce6eac40>"
      ]
     },
     "execution_count": 11,
     "metadata": {},
     "output_type": "execute_result"
    }
   ],
   "source": [
    "draw(neighbourhood(G1, node, filter_function=top_n_filter(10)))"
   ]
  },
  {
   "cell_type": "code",
   "execution_count": 12,
   "id": "7e6a9ddd-94d6-4502-993d-ce2657a06506",
   "metadata": {},
   "outputs": [
    {
     "data": {
      "text/html": [
       "\n",
       "        <iframe\n",
       "            width=\"510\"\n",
       "            height=\"510\"\n",
       "            src=\"data:text/html;charset=utf-8,%3Chtml%3E%0A%3Chead%3E%0A%3Clink%20rel%3D%22stylesheet%22%20href%3D%22https%3A//cdnjs.cloudflare.com/ajax/libs/vis/4.16.1/vis.css%22%20type%3D%22text/css%22%20/%3E%0A%3Cscript%20type%3D%22text/javascript%22%20src%3D%22https%3A//cdnjs.cloudflare.com/ajax/libs/vis/4.16.1/vis-network.min.js%22%3E%20%3C/script%3E%0A%3Ccenter%3E%0A%3Ch1%3E%3C/h1%3E%0A%3C/center%3E%0A%0A%3C%21--%20%3Clink%20rel%3D%22stylesheet%22%20href%3D%22../node_modules/vis/dist/vis.min.css%22%20type%3D%22text/css%22%20/%3E%0A%3Cscript%20type%3D%22text/javascript%22%20src%3D%22../node_modules/vis/dist/vis.js%22%3E%20%3C/script%3E--%3E%0A%0A%3Cstyle%20type%3D%22text/css%22%3E%0A%0A%20%20%20%20%20%20%20%20%23mynetwork%20%7B%0A%20%20%20%20%20%20%20%20%20%20%20%20width%3A%20500px%3B%0A%20%20%20%20%20%20%20%20%20%20%20%20height%3A%20500px%3B%0A%20%20%20%20%20%20%20%20%20%20%20%20background-color%3A%20%23ffffff%3B%0A%20%20%20%20%20%20%20%20%20%20%20%20border%3A%201px%20solid%20lightgray%3B%0A%20%20%20%20%20%20%20%20%20%20%20%20position%3A%20relative%3B%0A%20%20%20%20%20%20%20%20%20%20%20%20float%3A%20left%3B%0A%20%20%20%20%20%20%20%20%7D%0A%0A%20%20%20%20%20%20%20%20%0A%0A%20%20%20%20%20%20%20%20%0A%0A%20%20%20%20%20%20%20%20%0A%3C/style%3E%0A%0A%3C/head%3E%0A%0A%3Cbody%3E%0A%3Cdiv%20id%20%3D%20%22mynetwork%22%3E%3C/div%3E%0A%0A%0A%3Cscript%20type%3D%22text/javascript%22%3E%0A%0A%20%20%20%20//%20initialize%20global%20variables.%0A%20%20%20%20var%20edges%3B%0A%20%20%20%20var%20nodes%3B%0A%20%20%20%20var%20network%3B%20%0A%20%20%20%20var%20container%3B%0A%20%20%20%20var%20options%2C%20data%3B%0A%0A%20%20%20%20%0A%20%20%20%20//%20This%20method%20is%20responsible%20for%20drawing%20the%20graph%2C%20returns%20the%20drawn%20network%0A%20%20%20%20function%20drawGraph%28%29%20%7B%0A%20%20%20%20%20%20%20%20var%20container%20%3D%20document.getElementById%28%27mynetwork%27%29%3B%0A%20%20%20%20%20%20%20%20%0A%20%20%20%20%20%20%20%20%0A%0A%20%20%20%20%20%20%20%20//%20parsing%20and%20collecting%20nodes%20and%20edges%20from%20the%20python%0A%20%20%20%20%20%20%20%20nodes%20%3D%20new%20vis.DataSet%28%5B%7B%22id%22%3A%20%22scripture%22%2C%20%22label%22%3A%20%22scripture%22%2C%20%22shape%22%3A%20%22dot%22%2C%20%22size%22%3A%2010%7D%2C%20%7B%22id%22%3A%20%22ineffability%22%2C%20%22label%22%3A%20%22ineffability%22%2C%20%22shape%22%3A%20%22dot%22%2C%20%22size%22%3A%2010%7D%2C%20%7B%22id%22%3A%20%22compensate%22%2C%20%22label%22%3A%20%22compensate%22%2C%20%22shape%22%3A%20%22dot%22%2C%20%22size%22%3A%2010%7D%2C%20%7B%22id%22%3A%20%22blessing%22%2C%20%22label%22%3A%20%22blessing%22%2C%20%22shape%22%3A%20%22dot%22%2C%20%22size%22%3A%2010%7D%2C%20%7B%22id%22%3A%20%22mouth%22%2C%20%22label%22%3A%20%22mouth%22%2C%20%22shape%22%3A%20%22dot%22%2C%20%22size%22%3A%2010%7D%2C%20%7B%22id%22%3A%20%22ask%22%2C%20%22label%22%3A%20%22ask%22%2C%20%22shape%22%3A%20%22dot%22%2C%20%22size%22%3A%2010%7D%2C%20%7B%22id%22%3A%20%22say%22%2C%20%22label%22%3A%20%22say%22%2C%20%22shape%22%3A%20%22dot%22%2C%20%22size%22%3A%2010%7D%5D%29%3B%0A%20%20%20%20%20%20%20%20edges%20%3D%20new%20vis.DataSet%28%5B%7B%22arrows%22%3A%20%22to%22%2C%20%22from%22%3A%20%22scripture%22%2C%20%22label%22%3A%20%220.143%22%2C%20%22to%22%3A%20%22ineffability%22%2C%20%22value%22%3A%200.14285714285714285%2C%20%22weight%22%3A%200.14285714285714285%7D%2C%20%7B%22arrows%22%3A%20%22to%22%2C%20%22from%22%3A%20%22scripture%22%2C%20%22label%22%3A%20%220.125%22%2C%20%22to%22%3A%20%22compensate%22%2C%20%22value%22%3A%200.125%2C%20%22weight%22%3A%200.125%7D%2C%20%7B%22arrows%22%3A%20%22to%22%2C%20%22from%22%3A%20%22scripture%22%2C%20%22label%22%3A%20%220.036%22%2C%20%22to%22%3A%20%22blessing%22%2C%20%22value%22%3A%200.03571428571428571%2C%20%22weight%22%3A%200.03571428571428571%7D%2C%20%7B%22arrows%22%3A%20%22to%22%2C%20%22from%22%3A%20%22scripture%22%2C%20%22label%22%3A%20%220.003%22%2C%20%22to%22%3A%20%22mouth%22%2C%20%22value%22%3A%200.0031746031746031746%2C%20%22weight%22%3A%200.0031746031746031746%7D%2C%20%7B%22arrows%22%3A%20%22to%22%2C%20%22from%22%3A%20%22scripture%22%2C%20%22label%22%3A%20%220.001%22%2C%20%22to%22%3A%20%22ask%22%2C%20%22value%22%3A%200.000949667616334283%2C%20%22weight%22%3A%200.000949667616334283%7D%2C%20%7B%22arrows%22%3A%20%22to%22%2C%20%22from%22%3A%20%22scripture%22%2C%20%22label%22%3A%20%220.000%22%2C%20%22to%22%3A%20%22say%22%2C%20%22value%22%3A%200.0003389256058295204%2C%20%22weight%22%3A%200.0003389256058295204%7D%5D%29%3B%0A%0A%20%20%20%20%20%20%20%20//%20adding%20nodes%20and%20edges%20to%20the%20graph%0A%20%20%20%20%20%20%20%20data%20%3D%20%7Bnodes%3A%20nodes%2C%20edges%3A%20edges%7D%3B%0A%0A%20%20%20%20%20%20%20%20var%20options%20%3D%20%7B%0A%20%20%20%20%22configure%22%3A%20%7B%0A%20%20%20%20%20%20%20%20%22enabled%22%3A%20false%0A%20%20%20%20%7D%2C%0A%20%20%20%20%22edges%22%3A%20%7B%0A%20%20%20%20%20%20%20%20%22color%22%3A%20%7B%0A%20%20%20%20%20%20%20%20%20%20%20%20%22inherit%22%3A%20true%0A%20%20%20%20%20%20%20%20%7D%2C%0A%20%20%20%20%20%20%20%20%22smooth%22%3A%20%7B%0A%20%20%20%20%20%20%20%20%20%20%20%20%22enabled%22%3A%20false%2C%0A%20%20%20%20%20%20%20%20%20%20%20%20%22type%22%3A%20%22continuous%22%0A%20%20%20%20%20%20%20%20%7D%0A%20%20%20%20%7D%2C%0A%20%20%20%20%22interaction%22%3A%20%7B%0A%20%20%20%20%20%20%20%20%22dragNodes%22%3A%20true%2C%0A%20%20%20%20%20%20%20%20%22hideEdgesOnDrag%22%3A%20false%2C%0A%20%20%20%20%20%20%20%20%22hideNodesOnDrag%22%3A%20false%0A%20%20%20%20%7D%2C%0A%20%20%20%20%22physics%22%3A%20%7B%0A%20%20%20%20%20%20%20%20%22enabled%22%3A%20true%2C%0A%20%20%20%20%20%20%20%20%22stabilization%22%3A%20%7B%0A%20%20%20%20%20%20%20%20%20%20%20%20%22enabled%22%3A%20true%2C%0A%20%20%20%20%20%20%20%20%20%20%20%20%22fit%22%3A%20true%2C%0A%20%20%20%20%20%20%20%20%20%20%20%20%22iterations%22%3A%201000%2C%0A%20%20%20%20%20%20%20%20%20%20%20%20%22onlyDynamicEdges%22%3A%20false%2C%0A%20%20%20%20%20%20%20%20%20%20%20%20%22updateInterval%22%3A%2050%0A%20%20%20%20%20%20%20%20%7D%0A%20%20%20%20%7D%0A%7D%3B%0A%20%20%20%20%20%20%20%20%0A%20%20%20%20%20%20%20%20%0A%0A%20%20%20%20%20%20%20%20%0A%0A%20%20%20%20%20%20%20%20network%20%3D%20new%20vis.Network%28container%2C%20data%2C%20options%29%3B%0A%09%20%0A%20%20%20%20%20%20%20%20%0A%0A%0A%20%20%20%20%20%20%20%20%0A%0A%20%20%20%20%20%20%20%20return%20network%3B%0A%0A%20%20%20%20%7D%0A%0A%20%20%20%20drawGraph%28%29%3B%0A%0A%3C/script%3E%0A%3C/body%3E%0A%3C/html%3E\"\n",
       "            frameborder=\"0\"\n",
       "            allowfullscreen\n",
       "            \n",
       "        ></iframe>\n",
       "        "
      ],
      "text/plain": [
       "<IPython.lib.display.IFrame at 0x7faff58dd370>"
      ]
     },
     "execution_count": 12,
     "metadata": {},
     "output_type": "execute_result"
    }
   ],
   "source": [
    "draw(neighbourhood(G2, node, filter_function=top_n_filter(10)))"
   ]
  }
 ],
 "metadata": {
  "kernelspec": {
   "display_name": "Python 3 (ipykernel)",
   "language": "python",
   "name": "python3"
  },
  "language_info": {
   "codemirror_mode": {
    "name": "ipython",
    "version": 3
   },
   "file_extension": ".py",
   "mimetype": "text/x-python",
   "name": "python",
   "nbconvert_exporter": "python",
   "pygments_lexer": "ipython3",
   "version": "3.9.7"
  }
 },
 "nbformat": 4,
 "nbformat_minor": 5
}
