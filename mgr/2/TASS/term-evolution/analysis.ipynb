{
 "cells": [
  {
   "cell_type": "code",
   "execution_count": 1,
   "id": "ed97ed76-365f-44f5-9ec4-ee6d726a02f5",
   "metadata": {},
   "outputs": [],
   "source": [
    "import random\n",
    "from pathlib import Path\n",
    "from preprocessing import clean_gutenberg, tokenize\n",
    "from collocations import make_graph, cosine_similarities\n",
    "from plotting import draw_graph"
   ]
  },
  {
   "cell_type": "code",
   "execution_count": 2,
   "id": "7c5eb889-de30-43e7-8273-9b2af723daf8",
   "metadata": {
    "tags": []
   },
   "outputs": [],
   "source": [
    "def read_all(directory):\n",
    "    return [file.read_text() for file in Path(directory).glob('*') if file.is_file()]\n",
    "\n",
    "def neighbourhood(graph, node, filter_function=lambda edges: edges):\n",
    "    edges = filter_function(graph.out_edges(node, data=True))\n",
    "    return graph.edge_subgraph([(edge[0], edge[1]) for edge in edges])\n",
    "\n",
    "def top_n_filter(n):\n",
    "    return lambda edges: sorted(edges, key=lambda item: item[2][\"weight\"], reverse=True)[:n]\n",
    "\n",
    "def draw(graph):\n",
    "    return draw_graph(graph, label_attribute=\"weight\", label_function=lambda x: f\"{x:.3f}\", width_attribute=\"weight\")"
   ]
  },
  {
   "cell_type": "code",
   "execution_count": 3,
   "id": "eac347cb-c0d4-4532-8fbc-60bc83118f1e",
   "metadata": {
    "tags": []
   },
   "outputs": [],
   "source": [
    "directory1, directory2 = \"data/1\", \"data/2\""
   ]
  },
  {
   "cell_type": "code",
   "execution_count": 4,
   "id": "0603c04d-ad4b-4cc5-88f3-2d5479c70768",
   "metadata": {},
   "outputs": [],
   "source": [
    "tokens, vocabulary = tokenize([\n",
    "    \"\\n\".join(clean_gutenberg(text) for text in read_all(directory1)), \n",
    "    \"\\n\".join(clean_gutenberg(text) for text in read_all(directory2)), \n",
    "])"
   ]
  },
  {
   "cell_type": "code",
   "execution_count": 5,
   "id": "947ed871-4253-413f-bb65-95dee48134a6",
   "metadata": {},
   "outputs": [],
   "source": [
    "G1 = make_graph(tokens[0], vocabulary)"
   ]
  },
  {
   "cell_type": "code",
   "execution_count": 6,
   "id": "f45ffccc-6fff-4503-b636-7d8b26308661",
   "metadata": {},
   "outputs": [],
   "source": [
    "G2 = make_graph(tokens[1], vocabulary)"
   ]
  },
  {
   "cell_type": "code",
   "execution_count": 7,
   "id": "4b53fe2f-1e59-4f9e-b1e5-c8dd898c4765",
   "metadata": {
    "tags": []
   },
   "outputs": [
    {
     "name": "stderr",
     "output_type": "stream",
     "text": [
      "100%|██████████| 61536/61536 [1:56:02<00:00,  8.84it/s]  \n"
     ]
    }
   ],
   "source": [
    "similarities = cosine_similarities(G1, G2, vocabulary)\n",
    "similarities = sorted(similarities.items(), key=lambda item: item[1], reverse=True)"
   ]
  },
  {
   "cell_type": "code",
   "execution_count": 8,
   "id": "9b9320c1-a2f8-4dec-b897-52676c839e90",
   "metadata": {},
   "outputs": [],
   "source": [
    "node, score = random.choice([(node, score) for node, score in similarities if 1 > score > 0])"
   ]
  },
  {
   "cell_type": "code",
   "execution_count": 9,
   "id": "49963197-51a9-4702-b9d3-ec91b69ec981",
   "metadata": {},
   "outputs": [
    {
     "data": {
      "text/plain": [
       "0.08571603480814684"
      ]
     },
     "execution_count": 9,
     "metadata": {},
     "output_type": "execute_result"
    }
   ],
   "source": [
    "score"
   ]
  },
  {
   "cell_type": "code",
   "execution_count": 10,
   "id": "9b222765-f6e4-46c7-a174-f2020b4e3192",
   "metadata": {},
   "outputs": [
    {
     "data": {
      "text/html": [
       "\n",
       "        <iframe\n",
       "            width=\"510\"\n",
       "            height=\"510\"\n",
       "            src=\"data:text/html;charset=utf-8,%3Chtml%3E%0A%3Chead%3E%0A%3Clink%20rel%3D%22stylesheet%22%20href%3D%22https%3A//cdnjs.cloudflare.com/ajax/libs/vis/4.16.1/vis.css%22%20type%3D%22text/css%22%20/%3E%0A%3Cscript%20type%3D%22text/javascript%22%20src%3D%22https%3A//cdnjs.cloudflare.com/ajax/libs/vis/4.16.1/vis-network.min.js%22%3E%20%3C/script%3E%0A%3Ccenter%3E%0A%3Ch1%3E%3C/h1%3E%0A%3C/center%3E%0A%0A%3C%21--%20%3Clink%20rel%3D%22stylesheet%22%20href%3D%22../node_modules/vis/dist/vis.min.css%22%20type%3D%22text/css%22%20/%3E%0A%3Cscript%20type%3D%22text/javascript%22%20src%3D%22../node_modules/vis/dist/vis.js%22%3E%20%3C/script%3E--%3E%0A%0A%3Cstyle%20type%3D%22text/css%22%3E%0A%0A%20%20%20%20%20%20%20%20%23mynetwork%20%7B%0A%20%20%20%20%20%20%20%20%20%20%20%20width%3A%20500px%3B%0A%20%20%20%20%20%20%20%20%20%20%20%20height%3A%20500px%3B%0A%20%20%20%20%20%20%20%20%20%20%20%20background-color%3A%20%23ffffff%3B%0A%20%20%20%20%20%20%20%20%20%20%20%20border%3A%201px%20solid%20lightgray%3B%0A%20%20%20%20%20%20%20%20%20%20%20%20position%3A%20relative%3B%0A%20%20%20%20%20%20%20%20%20%20%20%20float%3A%20left%3B%0A%20%20%20%20%20%20%20%20%7D%0A%0A%20%20%20%20%20%20%20%20%0A%0A%20%20%20%20%20%20%20%20%0A%0A%20%20%20%20%20%20%20%20%0A%3C/style%3E%0A%0A%3C/head%3E%0A%0A%3Cbody%3E%0A%3Cdiv%20id%20%3D%20%22mynetwork%22%3E%3C/div%3E%0A%0A%0A%3Cscript%20type%3D%22text/javascript%22%3E%0A%0A%20%20%20%20//%20initialize%20global%20variables.%0A%20%20%20%20var%20edges%3B%0A%20%20%20%20var%20nodes%3B%0A%20%20%20%20var%20network%3B%20%0A%20%20%20%20var%20container%3B%0A%20%20%20%20var%20options%2C%20data%3B%0A%0A%20%20%20%20%0A%20%20%20%20//%20This%20method%20is%20responsible%20for%20drawing%20the%20graph%2C%20returns%20the%20drawn%20network%0A%20%20%20%20function%20drawGraph%28%29%20%7B%0A%20%20%20%20%20%20%20%20var%20container%20%3D%20document.getElementById%28%27mynetwork%27%29%3B%0A%20%20%20%20%20%20%20%20%0A%20%20%20%20%20%20%20%20%0A%0A%20%20%20%20%20%20%20%20//%20parsing%20and%20collecting%20nodes%20and%20edges%20from%20the%20python%0A%20%20%20%20%20%20%20%20nodes%20%3D%20new%20vis.DataSet%28%5B%7B%22id%22%3A%20%22merchant%22%2C%20%22label%22%3A%20%22merchant%22%2C%20%22shape%22%3A%20%22dot%22%2C%20%22size%22%3A%2010%7D%2C%20%7B%22id%22%3A%20%22mercer%22%2C%20%22label%22%3A%20%22mercer%22%2C%20%22shape%22%3A%20%22dot%22%2C%20%22size%22%3A%2010%7D%2C%20%7B%22id%22%3A%20%22incomparable%22%2C%20%22label%22%3A%20%22incomparable%22%2C%20%22shape%22%3A%20%22dot%22%2C%20%22size%22%3A%2010%7D%2C%20%7B%22id%22%3A%20%22venice%22%2C%20%22label%22%3A%20%22venice%22%2C%20%22shape%22%3A%20%22dot%22%2C%20%22size%22%3A%2010%7D%2C%20%7B%22id%22%3A%20%22venture%22%2C%20%22label%22%3A%20%22venture%22%2C%20%22shape%22%3A%20%22dot%22%2C%20%22size%22%3A%2010%7D%2C%20%7B%22id%22%3A%20%22angelo%22%2C%20%22label%22%3A%20%22angelo%22%2C%20%22shape%22%3A%20%22dot%22%2C%20%22size%22%3A%2010%7D%2C%20%7B%22id%22%3A%20%22ropery%22%2C%20%22label%22%3A%20%22ropery%22%2C%20%22shape%22%3A%20%22dot%22%2C%20%22size%22%3A%2010%7D%2C%20%7B%22id%22%3A%20%22soil%5Cu2019d%22%2C%20%22label%22%3A%20%22soil%5Cu2019d%22%2C%20%22shape%22%3A%20%22dot%22%2C%20%22size%22%3A%2010%7D%2C%20%7B%22id%22%3A%20%22marring%22%2C%20%22label%22%3A%20%22marring%22%2C%20%22shape%22%3A%20%22dot%22%2C%20%22size%22%3A%2010%7D%2C%20%7B%22id%22%3A%20%22syracusa%22%2C%20%22label%22%3A%20%22syracusa%22%2C%20%22shape%22%3A%20%22dot%22%2C%20%22size%22%3A%2010%7D%5D%29%3B%0A%20%20%20%20%20%20%20%20edges%20%3D%20new%20vis.DataSet%28%5B%7B%22arrows%22%3A%20%22to%22%2C%20%22from%22%3A%20%22merchant%22%2C%20%22label%22%3A%20%220.024%22%2C%20%22to%22%3A%20%22mercer%22%2C%20%22value%22%3A%200.023809523809523808%2C%20%22weight%22%3A%200.023809523809523808%7D%2C%20%7B%22arrows%22%3A%20%22to%22%2C%20%22from%22%3A%20%22merchant%22%2C%20%22label%22%3A%20%220.023%22%2C%20%22to%22%3A%20%22incomparable%22%2C%20%22value%22%3A%200.023255813953488372%2C%20%22weight%22%3A%200.023255813953488372%7D%2C%20%7B%22arrows%22%3A%20%22to%22%2C%20%22from%22%3A%20%22merchant%22%2C%20%22label%22%3A%20%220.019%22%2C%20%22to%22%3A%20%22merchant%22%2C%20%22value%22%3A%200.018633540372670808%2C%20%22weight%22%3A%200.018633540372670808%7D%2C%20%7B%22arrows%22%3A%20%22to%22%2C%20%22from%22%3A%20%22merchant%22%2C%20%22label%22%3A%20%220.017%22%2C%20%22to%22%3A%20%22venice%22%2C%20%22value%22%3A%200.01675977653631285%2C%20%22weight%22%3A%200.01675977653631285%7D%2C%20%7B%22arrows%22%3A%20%22to%22%2C%20%22from%22%3A%20%22merchant%22%2C%20%22label%22%3A%20%220.014%22%2C%20%22to%22%3A%20%22venture%22%2C%20%22value%22%3A%200.014492753623188406%2C%20%22weight%22%3A%200.014492753623188406%7D%2C%20%7B%22arrows%22%3A%20%22to%22%2C%20%22from%22%3A%20%22merchant%22%2C%20%22label%22%3A%20%220.014%22%2C%20%22to%22%3A%20%22angelo%22%2C%20%22value%22%3A%200.013745704467353952%2C%20%22weight%22%3A%200.013745704467353952%7D%2C%20%7B%22arrows%22%3A%20%22to%22%2C%20%22from%22%3A%20%22merchant%22%2C%20%22label%22%3A%20%220.012%22%2C%20%22to%22%3A%20%22ropery%22%2C%20%22value%22%3A%200.012195121951219513%2C%20%22weight%22%3A%200.012195121951219513%7D%2C%20%7B%22arrows%22%3A%20%22to%22%2C%20%22from%22%3A%20%22merchant%22%2C%20%22label%22%3A%20%220.012%22%2C%20%22to%22%3A%20%22soil%5Cu2019d%22%2C%20%22value%22%3A%200.012048192771084338%2C%20%22weight%22%3A%200.012048192771084338%7D%2C%20%7B%22arrows%22%3A%20%22to%22%2C%20%22from%22%3A%20%22merchant%22%2C%20%22label%22%3A%20%220.012%22%2C%20%22to%22%3A%20%22marring%22%2C%20%22value%22%3A%200.011764705882352941%2C%20%22weight%22%3A%200.011764705882352941%7D%2C%20%7B%22arrows%22%3A%20%22to%22%2C%20%22from%22%3A%20%22merchant%22%2C%20%22label%22%3A%20%220.012%22%2C%20%22to%22%3A%20%22syracusa%22%2C%20%22value%22%3A%200.011627906976744186%2C%20%22weight%22%3A%200.011627906976744186%7D%5D%29%3B%0A%0A%20%20%20%20%20%20%20%20//%20adding%20nodes%20and%20edges%20to%20the%20graph%0A%20%20%20%20%20%20%20%20data%20%3D%20%7Bnodes%3A%20nodes%2C%20edges%3A%20edges%7D%3B%0A%0A%20%20%20%20%20%20%20%20var%20options%20%3D%20%7B%0A%20%20%20%20%22configure%22%3A%20%7B%0A%20%20%20%20%20%20%20%20%22enabled%22%3A%20false%0A%20%20%20%20%7D%2C%0A%20%20%20%20%22edges%22%3A%20%7B%0A%20%20%20%20%20%20%20%20%22color%22%3A%20%7B%0A%20%20%20%20%20%20%20%20%20%20%20%20%22inherit%22%3A%20true%0A%20%20%20%20%20%20%20%20%7D%2C%0A%20%20%20%20%20%20%20%20%22smooth%22%3A%20%7B%0A%20%20%20%20%20%20%20%20%20%20%20%20%22enabled%22%3A%20false%2C%0A%20%20%20%20%20%20%20%20%20%20%20%20%22type%22%3A%20%22continuous%22%0A%20%20%20%20%20%20%20%20%7D%0A%20%20%20%20%7D%2C%0A%20%20%20%20%22interaction%22%3A%20%7B%0A%20%20%20%20%20%20%20%20%22dragNodes%22%3A%20true%2C%0A%20%20%20%20%20%20%20%20%22hideEdgesOnDrag%22%3A%20false%2C%0A%20%20%20%20%20%20%20%20%22hideNodesOnDrag%22%3A%20false%0A%20%20%20%20%7D%2C%0A%20%20%20%20%22physics%22%3A%20%7B%0A%20%20%20%20%20%20%20%20%22enabled%22%3A%20true%2C%0A%20%20%20%20%20%20%20%20%22stabilization%22%3A%20%7B%0A%20%20%20%20%20%20%20%20%20%20%20%20%22enabled%22%3A%20true%2C%0A%20%20%20%20%20%20%20%20%20%20%20%20%22fit%22%3A%20true%2C%0A%20%20%20%20%20%20%20%20%20%20%20%20%22iterations%22%3A%201000%2C%0A%20%20%20%20%20%20%20%20%20%20%20%20%22onlyDynamicEdges%22%3A%20false%2C%0A%20%20%20%20%20%20%20%20%20%20%20%20%22updateInterval%22%3A%2050%0A%20%20%20%20%20%20%20%20%7D%0A%20%20%20%20%7D%0A%7D%3B%0A%20%20%20%20%20%20%20%20%0A%20%20%20%20%20%20%20%20%0A%0A%20%20%20%20%20%20%20%20%0A%0A%20%20%20%20%20%20%20%20network%20%3D%20new%20vis.Network%28container%2C%20data%2C%20options%29%3B%0A%09%20%0A%20%20%20%20%20%20%20%20%0A%0A%0A%20%20%20%20%20%20%20%20%0A%0A%20%20%20%20%20%20%20%20return%20network%3B%0A%0A%20%20%20%20%7D%0A%0A%20%20%20%20drawGraph%28%29%3B%0A%0A%3C/script%3E%0A%3C/body%3E%0A%3C/html%3E\"\n",
       "            frameborder=\"0\"\n",
       "            allowfullscreen\n",
       "            \n",
       "        ></iframe>\n",
       "        "
      ],
      "text/plain": [
       "<IPython.lib.display.IFrame at 0x7f0d174660d0>"
      ]
     },
     "execution_count": 10,
     "metadata": {},
     "output_type": "execute_result"
    }
   ],
   "source": [
    "draw(neighbourhood(G1, node, filter_function=top_n_filter(10)))"
   ]
  },
  {
   "cell_type": "code",
   "execution_count": 11,
   "id": "7e6a9ddd-94d6-4502-993d-ce2657a06506",
   "metadata": {},
   "outputs": [
    {
     "data": {
      "text/html": [
       "\n",
       "        <iframe\n",
       "            width=\"510\"\n",
       "            height=\"510\"\n",
       "            src=\"data:text/html;charset=utf-8,%3Chtml%3E%0A%3Chead%3E%0A%3Clink%20rel%3D%22stylesheet%22%20href%3D%22https%3A//cdnjs.cloudflare.com/ajax/libs/vis/4.16.1/vis.css%22%20type%3D%22text/css%22%20/%3E%0A%3Cscript%20type%3D%22text/javascript%22%20src%3D%22https%3A//cdnjs.cloudflare.com/ajax/libs/vis/4.16.1/vis-network.min.js%22%3E%20%3C/script%3E%0A%3Ccenter%3E%0A%3Ch1%3E%3C/h1%3E%0A%3C/center%3E%0A%0A%3C%21--%20%3Clink%20rel%3D%22stylesheet%22%20href%3D%22../node_modules/vis/dist/vis.min.css%22%20type%3D%22text/css%22%20/%3E%0A%3Cscript%20type%3D%22text/javascript%22%20src%3D%22../node_modules/vis/dist/vis.js%22%3E%20%3C/script%3E--%3E%0A%0A%3Cstyle%20type%3D%22text/css%22%3E%0A%0A%20%20%20%20%20%20%20%20%23mynetwork%20%7B%0A%20%20%20%20%20%20%20%20%20%20%20%20width%3A%20500px%3B%0A%20%20%20%20%20%20%20%20%20%20%20%20height%3A%20500px%3B%0A%20%20%20%20%20%20%20%20%20%20%20%20background-color%3A%20%23ffffff%3B%0A%20%20%20%20%20%20%20%20%20%20%20%20border%3A%201px%20solid%20lightgray%3B%0A%20%20%20%20%20%20%20%20%20%20%20%20position%3A%20relative%3B%0A%20%20%20%20%20%20%20%20%20%20%20%20float%3A%20left%3B%0A%20%20%20%20%20%20%20%20%7D%0A%0A%20%20%20%20%20%20%20%20%0A%0A%20%20%20%20%20%20%20%20%0A%0A%20%20%20%20%20%20%20%20%0A%3C/style%3E%0A%0A%3C/head%3E%0A%0A%3Cbody%3E%0A%3Cdiv%20id%20%3D%20%22mynetwork%22%3E%3C/div%3E%0A%0A%0A%3Cscript%20type%3D%22text/javascript%22%3E%0A%0A%20%20%20%20//%20initialize%20global%20variables.%0A%20%20%20%20var%20edges%3B%0A%20%20%20%20var%20nodes%3B%0A%20%20%20%20var%20network%3B%20%0A%20%20%20%20var%20container%3B%0A%20%20%20%20var%20options%2C%20data%3B%0A%0A%20%20%20%20%0A%20%20%20%20//%20This%20method%20is%20responsible%20for%20drawing%20the%20graph%2C%20returns%20the%20drawn%20network%0A%20%20%20%20function%20drawGraph%28%29%20%7B%0A%20%20%20%20%20%20%20%20var%20container%20%3D%20document.getElementById%28%27mynetwork%27%29%3B%0A%20%20%20%20%20%20%20%20%0A%20%20%20%20%20%20%20%20%0A%0A%20%20%20%20%20%20%20%20//%20parsing%20and%20collecting%20nodes%20and%20edges%20from%20the%20python%0A%20%20%20%20%20%20%20%20nodes%20%3D%20new%20vis.DataSet%28%5B%7B%22id%22%3A%20%22merchant%22%2C%20%22label%22%3A%20%22merchant%22%2C%20%22shape%22%3A%20%22dot%22%2C%20%22size%22%3A%2010%7D%2C%20%7B%22id%22%3A%20%22jalaps%22%2C%20%22label%22%3A%20%22jalaps%22%2C%20%22shape%22%3A%20%22dot%22%2C%20%22size%22%3A%2010%7D%2C%20%7B%22id%22%3A%20%22traversers%22%2C%20%22label%22%3A%20%22traversers%22%2C%20%22shape%22%3A%20%22dot%22%2C%20%22size%22%3A%2010%7D%2C%20%7B%22id%22%3A%20%22venice%22%2C%20%22label%22%3A%20%22venice%22%2C%20%22shape%22%3A%20%22dot%22%2C%20%22size%22%3A%2010%7D%2C%20%7B%22id%22%3A%20%22buys%22%2C%20%22label%22%3A%20%22buys%22%2C%20%22shape%22%3A%20%22dot%22%2C%20%22size%22%3A%2010%7D%2C%20%7B%22id%22%3A%20%22hereinafter%22%2C%20%22label%22%3A%20%22hereinafter%22%2C%20%22shape%22%3A%20%22dot%22%2C%20%22size%22%3A%2010%7D%2C%20%7B%22id%22%3A%20%22adventurer%22%2C%20%22label%22%3A%20%22adventurer%22%2C%20%22shape%22%3A%20%22dot%22%2C%20%22size%22%3A%2010%7D%2C%20%7B%22id%22%3A%20%22belfast%22%2C%20%22label%22%3A%20%22belfast%22%2C%20%22shape%22%3A%20%22dot%22%2C%20%22size%22%3A%2010%7D%2C%20%7B%22id%22%3A%20%22chairman%22%2C%20%22label%22%3A%20%22chairman%22%2C%20%22shape%22%3A%20%22dot%22%2C%20%22size%22%3A%2010%7D%2C%20%7B%22id%22%3A%20%22vessel%22%2C%20%22label%22%3A%20%22vessel%22%2C%20%22shape%22%3A%20%22dot%22%2C%20%22size%22%3A%2010%7D%2C%20%7B%22id%22%3A%20%22tailor%22%2C%20%22label%22%3A%20%22tailor%22%2C%20%22shape%22%3A%20%22dot%22%2C%20%22size%22%3A%2010%7D%5D%29%3B%0A%20%20%20%20%20%20%20%20edges%20%3D%20new%20vis.DataSet%28%5B%7B%22arrows%22%3A%20%22to%22%2C%20%22from%22%3A%20%22merchant%22%2C%20%22label%22%3A%20%220.045%22%2C%20%22to%22%3A%20%22jalaps%22%2C%20%22value%22%3A%200.045454545454545456%2C%20%22weight%22%3A%200.045454545454545456%7D%2C%20%7B%22arrows%22%3A%20%22to%22%2C%20%22from%22%3A%20%22merchant%22%2C%20%22label%22%3A%20%220.045%22%2C%20%22to%22%3A%20%22traversers%22%2C%20%22value%22%3A%200.045454545454545456%2C%20%22weight%22%3A%200.045454545454545456%7D%2C%20%7B%22arrows%22%3A%20%22to%22%2C%20%22from%22%3A%20%22merchant%22%2C%20%22label%22%3A%20%220.043%22%2C%20%22to%22%3A%20%22venice%22%2C%20%22value%22%3A%200.043478260869565216%2C%20%22weight%22%3A%200.043478260869565216%7D%2C%20%7B%22arrows%22%3A%20%22to%22%2C%20%22from%22%3A%20%22merchant%22%2C%20%22label%22%3A%20%220.042%22%2C%20%22to%22%3A%20%22buys%22%2C%20%22value%22%3A%200.041666666666666664%2C%20%22weight%22%3A%200.041666666666666664%7D%2C%20%7B%22arrows%22%3A%20%22to%22%2C%20%22from%22%3A%20%22merchant%22%2C%20%22label%22%3A%20%220.042%22%2C%20%22to%22%3A%20%22hereinafter%22%2C%20%22value%22%3A%200.041666666666666664%2C%20%22weight%22%3A%200.041666666666666664%7D%2C%20%7B%22arrows%22%3A%20%22to%22%2C%20%22from%22%3A%20%22merchant%22%2C%20%22label%22%3A%20%220.040%22%2C%20%22to%22%3A%20%22adventurer%22%2C%20%22value%22%3A%200.04%2C%20%22weight%22%3A%200.04%7D%2C%20%7B%22arrows%22%3A%20%22to%22%2C%20%22from%22%3A%20%22merchant%22%2C%20%22label%22%3A%20%220.029%22%2C%20%22to%22%3A%20%22belfast%22%2C%20%22value%22%3A%200.029411764705882353%2C%20%22weight%22%3A%200.029411764705882353%7D%2C%20%7B%22arrows%22%3A%20%22to%22%2C%20%22from%22%3A%20%22merchant%22%2C%20%22label%22%3A%20%220.029%22%2C%20%22to%22%3A%20%22chairman%22%2C%20%22value%22%3A%200.02857142857142857%2C%20%22weight%22%3A%200.02857142857142857%7D%2C%20%7B%22arrows%22%3A%20%22to%22%2C%20%22from%22%3A%20%22merchant%22%2C%20%22label%22%3A%20%220.029%22%2C%20%22to%22%3A%20%22vessel%22%2C%20%22value%22%3A%200.02857142857142857%2C%20%22weight%22%3A%200.02857142857142857%7D%2C%20%7B%22arrows%22%3A%20%22to%22%2C%20%22from%22%3A%20%22merchant%22%2C%20%22label%22%3A%20%220.028%22%2C%20%22to%22%3A%20%22tailor%22%2C%20%22value%22%3A%200.027777777777777776%2C%20%22weight%22%3A%200.027777777777777776%7D%5D%29%3B%0A%0A%20%20%20%20%20%20%20%20//%20adding%20nodes%20and%20edges%20to%20the%20graph%0A%20%20%20%20%20%20%20%20data%20%3D%20%7Bnodes%3A%20nodes%2C%20edges%3A%20edges%7D%3B%0A%0A%20%20%20%20%20%20%20%20var%20options%20%3D%20%7B%0A%20%20%20%20%22configure%22%3A%20%7B%0A%20%20%20%20%20%20%20%20%22enabled%22%3A%20false%0A%20%20%20%20%7D%2C%0A%20%20%20%20%22edges%22%3A%20%7B%0A%20%20%20%20%20%20%20%20%22color%22%3A%20%7B%0A%20%20%20%20%20%20%20%20%20%20%20%20%22inherit%22%3A%20true%0A%20%20%20%20%20%20%20%20%7D%2C%0A%20%20%20%20%20%20%20%20%22smooth%22%3A%20%7B%0A%20%20%20%20%20%20%20%20%20%20%20%20%22enabled%22%3A%20false%2C%0A%20%20%20%20%20%20%20%20%20%20%20%20%22type%22%3A%20%22continuous%22%0A%20%20%20%20%20%20%20%20%7D%0A%20%20%20%20%7D%2C%0A%20%20%20%20%22interaction%22%3A%20%7B%0A%20%20%20%20%20%20%20%20%22dragNodes%22%3A%20true%2C%0A%20%20%20%20%20%20%20%20%22hideEdgesOnDrag%22%3A%20false%2C%0A%20%20%20%20%20%20%20%20%22hideNodesOnDrag%22%3A%20false%0A%20%20%20%20%7D%2C%0A%20%20%20%20%22physics%22%3A%20%7B%0A%20%20%20%20%20%20%20%20%22enabled%22%3A%20true%2C%0A%20%20%20%20%20%20%20%20%22stabilization%22%3A%20%7B%0A%20%20%20%20%20%20%20%20%20%20%20%20%22enabled%22%3A%20true%2C%0A%20%20%20%20%20%20%20%20%20%20%20%20%22fit%22%3A%20true%2C%0A%20%20%20%20%20%20%20%20%20%20%20%20%22iterations%22%3A%201000%2C%0A%20%20%20%20%20%20%20%20%20%20%20%20%22onlyDynamicEdges%22%3A%20false%2C%0A%20%20%20%20%20%20%20%20%20%20%20%20%22updateInterval%22%3A%2050%0A%20%20%20%20%20%20%20%20%7D%0A%20%20%20%20%7D%0A%7D%3B%0A%20%20%20%20%20%20%20%20%0A%20%20%20%20%20%20%20%20%0A%0A%20%20%20%20%20%20%20%20%0A%0A%20%20%20%20%20%20%20%20network%20%3D%20new%20vis.Network%28container%2C%20data%2C%20options%29%3B%0A%09%20%0A%20%20%20%20%20%20%20%20%0A%0A%0A%20%20%20%20%20%20%20%20%0A%0A%20%20%20%20%20%20%20%20return%20network%3B%0A%0A%20%20%20%20%7D%0A%0A%20%20%20%20drawGraph%28%29%3B%0A%0A%3C/script%3E%0A%3C/body%3E%0A%3C/html%3E\"\n",
       "            frameborder=\"0\"\n",
       "            allowfullscreen\n",
       "            \n",
       "        ></iframe>\n",
       "        "
      ],
      "text/plain": [
       "<IPython.lib.display.IFrame at 0x7f0d17466d60>"
      ]
     },
     "execution_count": 11,
     "metadata": {},
     "output_type": "execute_result"
    }
   ],
   "source": [
    "draw(neighbourhood(G2, node, filter_function=top_n_filter(10)))"
   ]
  },
  {
   "cell_type": "code",
   "execution_count": 12,
   "id": "0e391bfc-3a07-465a-ad1a-b2613ccfd3b0",
   "metadata": {},
   "outputs": [
    {
     "data": {
      "text/plain": [
       "(array([2203.,  197.,   61.,   42.,   16.,    5.,    3.,    8.,    6.,\n",
       "          11.]),\n",
       " array([5.58556761e-06, 9.99955304e-02, 1.99985475e-01, 2.99975420e-01,\n",
       "        3.99965365e-01, 4.99955310e-01, 5.99945255e-01, 6.99935200e-01,\n",
       "        7.99925145e-01, 8.99915089e-01, 9.99905034e-01]),\n",
       " <BarContainer object of 10 artists>)"
      ]
     },
     "execution_count": 12,
     "metadata": {},
     "output_type": "execute_result"
    },
    {
     "data": {
      "image/png": "[encoded data removed]",
      "text/plain": [
       "<Figure size 432x288 with 1 Axes>"
      ]
     },
     "metadata": {
      "needs_background": "light"
     },
     "output_type": "display_data"
    }
   ],
   "source": [
    "import matplotlib.pyplot as plt\n",
    "plt.hist([v for v in dict(similarities).values() if 1 > v > 0])"
   ]
  },
  {
   "cell_type": "code",
   "execution_count": null,
   "id": "1b2c623f-0874-47fd-9c36-045852adb2f4",
   "metadata": {},
   "outputs": [],
   "source": []
  }
 ],
 "metadata": {
  "kernelspec": {
   "display_name": "Python 3 (ipykernel)",
   "language": "python",
   "name": "python3"
  },
  "language_info": {
   "codemirror_mode": {
    "name": "ipython",
    "version": 3
   },
   "file_extension": ".py",
   "mimetype": "text/x-python",
   "name": "python",
   "nbconvert_exporter": "python",
   "pygments_lexer": "ipython3",
   "version": "3.9.7"
  }
 },
 "nbformat": 4,
 "nbformat_minor": 5
}
