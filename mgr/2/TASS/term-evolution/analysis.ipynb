{
 "cells": [
  {
   "cell_type": "code",
   "execution_count": 1,
   "id": "ed97ed76-365f-44f5-9ec4-ee6d726a02f5",
   "metadata": {},
   "outputs": [],
   "source": [
    "import random\n",
    "import matplotlib.pyplot as plt\n",
    "from pathlib import Path\n",
    "from preprocessing import clean_gutenberg, tokenize\n",
    "from collocations import make_graph, cosine_similarities\n",
    "from plotting import draw_graph"
   ]
  },
  {
   "cell_type": "code",
   "execution_count": 2,
   "id": "7c5eb889-de30-43e7-8273-9b2af723daf8",
   "metadata": {
    "tags": []
   },
   "outputs": [],
   "source": [
    "def read_all(directory):\n",
    "    return [file.read_text() for file in Path(directory).glob('*') if file.is_file()]\n",
    "\n",
    "def flatten(lst):\n",
    "    return [x for ls in lst for x in ls]\n",
    "\n",
    "def neighbourhood(graph, node, filter_function=lambda edges: edges):\n",
    "    edges = filter_function(graph.out_edges(node, data=True))\n",
    "    return graph.edge_subgraph([(edge[0], edge[1]) for edge in edges])\n",
    "\n",
    "def top_n_filter(n):\n",
    "    return lambda edges: sorted(edges, key=lambda item: item[2][\"weight\"], reverse=True)[:n]\n",
    "\n",
    "def draw(graph):\n",
    "    return draw_graph(graph, label_attribute=\"weight\", label_function=lambda x: f\"{x:.3f}\", width_attribute=\"weight\")"
   ]
  },
  {
   "cell_type": "code",
   "execution_count": 3,
   "id": "eac347cb-c0d4-4532-8fbc-60bc83118f1e",
   "metadata": {
    "tags": []
   },
   "outputs": [
    {
     "data": {
      "application/vnd.jupyter.widget-view+json": {
       "model_id": "17e2800762cb4b96a4056538a7f85284",
       "version_major": 2,
       "version_minor": 0
      },
      "text/plain": [
       "0it [00:00, ?it/s]"
      ]
     },
     "metadata": {},
     "output_type": "display_data"
    },
    {
     "data": {
      "application/vnd.jupyter.widget-view+json": {
       "model_id": "4410b15200d14ee9b26335519355b3b9",
       "version_major": 2,
       "version_minor": 0
      },
      "text/plain": [
       "0it [00:00, ?it/s]"
      ]
     },
     "metadata": {},
     "output_type": "display_data"
    },
    {
     "data": {
      "application/vnd.jupyter.widget-view+json": {
       "model_id": "18ea27c134964403a325db02d6ad82cd",
       "version_major": 2,
       "version_minor": 0
      },
      "text/plain": [
       "0it [00:00, ?it/s]"
      ]
     },
     "metadata": {},
     "output_type": "display_data"
    },
    {
     "data": {
      "application/vnd.jupyter.widget-view+json": {
       "model_id": "d8168793760d4769a513437509a64630",
       "version_major": 2,
       "version_minor": 0
      },
      "text/plain": [
       "0it [00:00, ?it/s]"
      ]
     },
     "metadata": {},
     "output_type": "display_data"
    },
    {
     "data": {
      "application/vnd.jupyter.widget-view+json": {
       "model_id": "c05ea1ee29a04065b92e197353ebfc24",
       "version_major": 2,
       "version_minor": 0
      },
      "text/plain": [
       "0it [00:00, ?it/s]"
      ]
     },
     "metadata": {},
     "output_type": "display_data"
    },
    {
     "data": {
      "application/vnd.jupyter.widget-view+json": {
       "model_id": "b3e864eabce5494ab60878dff6af67cf",
       "version_major": 2,
       "version_minor": 0
      },
      "text/plain": [
       "0it [00:00, ?it/s]"
      ]
     },
     "metadata": {},
     "output_type": "display_data"
    },
    {
     "data": {
      "application/vnd.jupyter.widget-view+json": {
       "model_id": "ed599d8dd33e488da9cd79948244cf79",
       "version_major": 2,
       "version_minor": 0
      },
      "text/plain": [
       "0it [00:00, ?it/s]"
      ]
     },
     "metadata": {},
     "output_type": "display_data"
    },
    {
     "data": {
      "application/vnd.jupyter.widget-view+json": {
       "model_id": "32ce7ede147240a1be57cd111e676893",
       "version_major": 2,
       "version_minor": 0
      },
      "text/plain": [
       "0it [00:00, ?it/s]"
      ]
     },
     "metadata": {},
     "output_type": "display_data"
    }
   ],
   "source": [
    "tokens1, vocabulary1 = tokenize(clean_gutenberg(text) for text in read_all(\"data/1\"))"
   ]
  },
  {
   "cell_type": "code",
   "execution_count": 4,
   "id": "acda3ef8-7de9-4e8f-82f6-a3cdc26f5a70",
   "metadata": {},
   "outputs": [
    {
     "data": {
      "application/vnd.jupyter.widget-view+json": {
       "model_id": "3b9a7bb7c5dc49f2b15a1453bc617da0",
       "version_major": 2,
       "version_minor": 0
      },
      "text/plain": [
       "0it [00:00, ?it/s]"
      ]
     },
     "metadata": {},
     "output_type": "display_data"
    },
    {
     "data": {
      "application/vnd.jupyter.widget-view+json": {
       "model_id": "5c40e9bf900f471ca0507a9224e571cc",
       "version_major": 2,
       "version_minor": 0
      },
      "text/plain": [
       "0it [00:00, ?it/s]"
      ]
     },
     "metadata": {},
     "output_type": "display_data"
    },
    {
     "data": {
      "application/vnd.jupyter.widget-view+json": {
       "model_id": "a53b3683d24c4fd09feadd5e482311f9",
       "version_major": 2,
       "version_minor": 0
      },
      "text/plain": [
       "0it [00:00, ?it/s]"
      ]
     },
     "metadata": {},
     "output_type": "display_data"
    },
    {
     "data": {
      "application/vnd.jupyter.widget-view+json": {
       "model_id": "3101bd7f8e034287a3d3bd4b7ac3e533",
       "version_major": 2,
       "version_minor": 0
      },
      "text/plain": [
       "0it [00:00, ?it/s]"
      ]
     },
     "metadata": {},
     "output_type": "display_data"
    },
    {
     "data": {
      "application/vnd.jupyter.widget-view+json": {
       "model_id": "712f733a6dae4ac09f89a061cddb9acd",
       "version_major": 2,
       "version_minor": 0
      },
      "text/plain": [
       "0it [00:00, ?it/s]"
      ]
     },
     "metadata": {},
     "output_type": "display_data"
    },
    {
     "data": {
      "application/vnd.jupyter.widget-view+json": {
       "model_id": "d08def7c0849443fb3ae2327369fb38b",
       "version_major": 2,
       "version_minor": 0
      },
      "text/plain": [
       "0it [00:00, ?it/s]"
      ]
     },
     "metadata": {},
     "output_type": "display_data"
    },
    {
     "data": {
      "application/vnd.jupyter.widget-view+json": {
       "model_id": "040258356d874a04900d949ac17e9915",
       "version_major": 2,
       "version_minor": 0
      },
      "text/plain": [
       "0it [00:00, ?it/s]"
      ]
     },
     "metadata": {},
     "output_type": "display_data"
    },
    {
     "data": {
      "application/vnd.jupyter.widget-view+json": {
       "model_id": "67eb35cfbb05420bb46cad8b5050e2c6",
       "version_major": 2,
       "version_minor": 0
      },
      "text/plain": [
       "0it [00:00, ?it/s]"
      ]
     },
     "metadata": {},
     "output_type": "display_data"
    },
    {
     "data": {
      "application/vnd.jupyter.widget-view+json": {
       "model_id": "479027ebf44847d4b84bc4261d407755",
       "version_major": 2,
       "version_minor": 0
      },
      "text/plain": [
       "0it [00:00, ?it/s]"
      ]
     },
     "metadata": {},
     "output_type": "display_data"
    },
    {
     "data": {
      "application/vnd.jupyter.widget-view+json": {
       "model_id": "954c8518ad3b401284d84c27d49357d9",
       "version_major": 2,
       "version_minor": 0
      },
      "text/plain": [
       "0it [00:00, ?it/s]"
      ]
     },
     "metadata": {},
     "output_type": "display_data"
    }
   ],
   "source": [
    "tokens2, vocabulary2 = tokenize(clean_gutenberg(text) for text in read_all(\"data/2\"))"
   ]
  },
  {
   "cell_type": "code",
   "execution_count": 5,
   "id": "0603c04d-ad4b-4cc5-88f3-2d5479c70768",
   "metadata": {},
   "outputs": [
    {
     "data": {
      "text/plain": [
       "10540"
      ]
     },
     "execution_count": 5,
     "metadata": {},
     "output_type": "execute_result"
    }
   ],
   "source": [
    "vocabulary = sorted(set(vocabulary1) & set(vocabulary2))\n",
    "len(vocabulary)"
   ]
  },
  {
   "cell_type": "code",
   "execution_count": 6,
   "id": "947ed871-4253-413f-bb65-95dee48134a6",
   "metadata": {},
   "outputs": [],
   "source": [
    "G1 = make_graph(flatten(tokens1), vocabulary)"
   ]
  },
  {
   "cell_type": "code",
   "execution_count": 7,
   "id": "f45ffccc-6fff-4503-b636-7d8b26308661",
   "metadata": {},
   "outputs": [],
   "source": [
    "G2 = make_graph(flatten(tokens2), vocabulary)"
   ]
  },
  {
   "cell_type": "code",
   "execution_count": 8,
   "id": "4b53fe2f-1e59-4f9e-b1e5-c8dd898c4765",
   "metadata": {
    "tags": []
   },
   "outputs": [
    {
     "data": {
      "application/vnd.jupyter.widget-view+json": {
       "model_id": "b2ba2389d6ee45e99b2abb0e9d7d58ea",
       "version_major": 2,
       "version_minor": 0
      },
      "text/plain": [
       "  0%|          | 0/10540 [00:00<?, ?it/s]"
      ]
     },
     "metadata": {},
     "output_type": "display_data"
    }
   ],
   "source": [
    "similarities = cosine_similarities(G1, G2, vocabulary)\n",
    "similarities = sorted(similarities.items(), key=lambda item: item[1], reverse=True)"
   ]
  },
  {
   "cell_type": "code",
   "execution_count": 9,
   "id": "187b4519-730c-4bef-be0e-6c12a7698d96",
   "metadata": {},
   "outputs": [
    {
     "data": {
      "image/png": "[encoded data removed]",
      "text/plain": [
       "<Figure size 432x288 with 1 Axes>"
      ]
     },
     "metadata": {
      "needs_background": "light"
     },
     "output_type": "display_data"
    }
   ],
   "source": [
    "_ = plt.hist([score for _, score in similarities if score > 0])"
   ]
  },
  {
   "cell_type": "code",
   "execution_count": 10,
   "id": "9b9320c1-a2f8-4dec-b897-52676c839e90",
   "metadata": {},
   "outputs": [
    {
     "data": {
      "text/plain": [
       "('hath', 0.04712745936327265)"
      ]
     },
     "execution_count": 10,
     "metadata": {},
     "output_type": "execute_result"
    }
   ],
   "source": [
    "node, score = random.choice([(node, score) for node, score in similarities if 1 > score > 0])\n",
    "node, score"
   ]
  },
  {
   "cell_type": "code",
   "execution_count": 11,
   "id": "9b222765-f6e4-46c7-a174-f2020b4e3192",
   "metadata": {},
   "outputs": [
    {
     "data": {
      "text/html": [
       "\n",
       "        <iframe\n",
       "            width=\"510\"\n",
       "            height=\"510\"\n",
       "            src=\"data:text/html;charset=utf-8,%3Chtml%3E%0A%3Chead%3E%0A%3Clink%20rel%3D%22stylesheet%22%20href%3D%22https%3A//cdnjs.cloudflare.com/ajax/libs/vis/4.16.1/vis.css%22%20type%3D%22text/css%22%20/%3E%0A%3Cscript%20type%3D%22text/javascript%22%20src%3D%22https%3A//cdnjs.cloudflare.com/ajax/libs/vis/4.16.1/vis-network.min.js%22%3E%20%3C/script%3E%0A%3Ccenter%3E%0A%3Ch1%3E%3C/h1%3E%0A%3C/center%3E%0A%0A%3C%21--%20%3Clink%20rel%3D%22stylesheet%22%20href%3D%22../node_modules/vis/dist/vis.min.css%22%20type%3D%22text/css%22%20/%3E%0A%3Cscript%20type%3D%22text/javascript%22%20src%3D%22../node_modules/vis/dist/vis.js%22%3E%20%3C/script%3E--%3E%0A%0A%3Cstyle%20type%3D%22text/css%22%3E%0A%0A%20%20%20%20%20%20%20%20%23mynetwork%20%7B%0A%20%20%20%20%20%20%20%20%20%20%20%20width%3A%20500px%3B%0A%20%20%20%20%20%20%20%20%20%20%20%20height%3A%20500px%3B%0A%20%20%20%20%20%20%20%20%20%20%20%20background-color%3A%20%23ffffff%3B%0A%20%20%20%20%20%20%20%20%20%20%20%20border%3A%201px%20solid%20lightgray%3B%0A%20%20%20%20%20%20%20%20%20%20%20%20position%3A%20relative%3B%0A%20%20%20%20%20%20%20%20%20%20%20%20float%3A%20left%3B%0A%20%20%20%20%20%20%20%20%7D%0A%0A%20%20%20%20%20%20%20%20%0A%0A%20%20%20%20%20%20%20%20%0A%0A%20%20%20%20%20%20%20%20%0A%3C/style%3E%0A%0A%3C/head%3E%0A%0A%3Cbody%3E%0A%3Cdiv%20id%20%3D%20%22mynetwork%22%3E%3C/div%3E%0A%0A%0A%3Cscript%20type%3D%22text/javascript%22%3E%0A%0A%20%20%20%20//%20initialize%20global%20variables.%0A%20%20%20%20var%20edges%3B%0A%20%20%20%20var%20nodes%3B%0A%20%20%20%20var%20network%3B%20%0A%20%20%20%20var%20container%3B%0A%20%20%20%20var%20options%2C%20data%3B%0A%0A%20%20%20%20%0A%20%20%20%20//%20This%20method%20is%20responsible%20for%20drawing%20the%20graph%2C%20returns%20the%20drawn%20network%0A%20%20%20%20function%20drawGraph%28%29%20%7B%0A%20%20%20%20%20%20%20%20var%20container%20%3D%20document.getElementById%28%27mynetwork%27%29%3B%0A%20%20%20%20%20%20%20%20%0A%20%20%20%20%20%20%20%20%0A%0A%20%20%20%20%20%20%20%20//%20parsing%20and%20collecting%20nodes%20and%20edges%20from%20the%20python%0A%20%20%20%20%20%20%20%20nodes%20%3D%20new%20vis.DataSet%28%5B%7B%22id%22%3A%20%22hath%22%2C%20%22label%22%3A%20%22hath%22%2C%20%22shape%22%3A%20%22dot%22%2C%20%22size%22%3A%2010%7D%2C%20%7B%22id%22%3A%20%22give%22%2C%20%22label%22%3A%20%22give%22%2C%20%22shape%22%3A%20%22dot%22%2C%20%22size%22%3A%2010%7D%2C%20%7B%22id%22%3A%20%22send%22%2C%20%22label%22%3A%20%22send%22%2C%20%22shape%22%3A%20%22dot%22%2C%20%22size%22%3A%2010%7D%2C%20%7B%22id%22%3A%20%22lose%22%2C%20%22label%22%3A%20%22lose%22%2C%20%22shape%22%3A%20%22dot%22%2C%20%22size%22%3A%2010%7D%2C%20%7B%22id%22%3A%20%22leave%22%2C%20%22label%22%3A%20%22leave%22%2C%20%22shape%22%3A%20%22dot%22%2C%20%22size%22%3A%2010%7D%2C%20%7B%22id%22%3A%20%22power%22%2C%20%22label%22%3A%20%22power%22%2C%20%22shape%22%3A%20%22dot%22%2C%20%22size%22%3A%2010%7D%2C%20%7B%22id%22%3A%20%22get%22%2C%20%22label%22%3A%20%22get%22%2C%20%22shape%22%3A%20%22dot%22%2C%20%22size%22%3A%2010%7D%2C%20%7B%22id%22%3A%20%22wrong%22%2C%20%22label%22%3A%20%22wrong%22%2C%20%22shape%22%3A%20%22dot%22%2C%20%22size%22%3A%2010%7D%2C%20%7B%22id%22%3A%20%22teach%22%2C%20%22label%22%3A%20%22teach%22%2C%20%22shape%22%3A%20%22dot%22%2C%20%22size%22%3A%2010%7D%2C%20%7B%22id%22%3A%20%22bring%22%2C%20%22label%22%3A%20%22bring%22%2C%20%22shape%22%3A%20%22dot%22%2C%20%22size%22%3A%2010%7D%2C%20%7B%22id%22%3A%20%22thee%22%2C%20%22label%22%3A%20%22thee%22%2C%20%22shape%22%3A%20%22dot%22%2C%20%22size%22%3A%2010%7D%5D%29%3B%0A%20%20%20%20%20%20%20%20edges%20%3D%20new%20vis.DataSet%28%5B%7B%22arrows%22%3A%20%22to%22%2C%20%22from%22%3A%20%22hath%22%2C%20%22label%22%3A%20%220.010%22%2C%20%22to%22%3A%20%22give%22%2C%20%22value%22%3A%200.009784735812133072%2C%20%22weight%22%3A%200.009784735812133072%7D%2C%20%7B%22arrows%22%3A%20%22to%22%2C%20%22from%22%3A%20%22hath%22%2C%20%22label%22%3A%20%220.009%22%2C%20%22to%22%3A%20%22send%22%2C%20%22value%22%3A%200.008853118712273641%2C%20%22weight%22%3A%200.008853118712273641%7D%2C%20%7B%22arrows%22%3A%20%22to%22%2C%20%22from%22%3A%20%22hath%22%2C%20%22label%22%3A%20%220.008%22%2C%20%22to%22%3A%20%22lose%22%2C%20%22value%22%3A%200.008399832003359933%2C%20%22weight%22%3A%200.008399832003359933%7D%2C%20%7B%22arrows%22%3A%20%22to%22%2C%20%22from%22%3A%20%22hath%22%2C%20%22label%22%3A%20%220.008%22%2C%20%22to%22%3A%20%22leave%22%2C%20%22value%22%3A%200.007707774798927614%2C%20%22weight%22%3A%200.007707774798927614%7D%2C%20%7B%22arrows%22%3A%20%22to%22%2C%20%22from%22%3A%20%22hath%22%2C%20%22label%22%3A%20%220.007%22%2C%20%22to%22%3A%20%22power%22%2C%20%22value%22%3A%200.007152436298614216%2C%20%22weight%22%3A%200.007152436298614216%7D%2C%20%7B%22arrows%22%3A%20%22to%22%2C%20%22from%22%3A%20%22hath%22%2C%20%22label%22%3A%20%220.007%22%2C%20%22to%22%3A%20%22get%22%2C%20%22value%22%3A%200.006714876033057851%2C%20%22weight%22%3A%200.006714876033057851%7D%2C%20%7B%22arrows%22%3A%20%22to%22%2C%20%22from%22%3A%20%22hath%22%2C%20%22label%22%3A%20%220.006%22%2C%20%22to%22%3A%20%22wrong%22%2C%20%22value%22%3A%200.006038086391082211%2C%20%22weight%22%3A%200.006038086391082211%7D%2C%20%7B%22arrows%22%3A%20%22to%22%2C%20%22from%22%3A%20%22hath%22%2C%20%22label%22%3A%20%220.006%22%2C%20%22to%22%3A%20%22teach%22%2C%20%22value%22%3A%200.005530417295123178%2C%20%22weight%22%3A%200.005530417295123178%7D%2C%20%7B%22arrows%22%3A%20%22to%22%2C%20%22from%22%3A%20%22hath%22%2C%20%22label%22%3A%20%220.005%22%2C%20%22to%22%3A%20%22bring%22%2C%20%22value%22%3A%200.004788213627992633%2C%20%22weight%22%3A%200.004788213627992633%7D%2C%20%7B%22arrows%22%3A%20%22to%22%2C%20%22from%22%3A%20%22hath%22%2C%20%22label%22%3A%20%220.004%22%2C%20%22to%22%3A%20%22thee%22%2C%20%22value%22%3A%200.003987674460757658%2C%20%22weight%22%3A%200.003987674460757658%7D%5D%29%3B%0A%0A%20%20%20%20%20%20%20%20//%20adding%20nodes%20and%20edges%20to%20the%20graph%0A%20%20%20%20%20%20%20%20data%20%3D%20%7Bnodes%3A%20nodes%2C%20edges%3A%20edges%7D%3B%0A%0A%20%20%20%20%20%20%20%20var%20options%20%3D%20%7B%0A%20%20%20%20%22configure%22%3A%20%7B%0A%20%20%20%20%20%20%20%20%22enabled%22%3A%20false%0A%20%20%20%20%7D%2C%0A%20%20%20%20%22edges%22%3A%20%7B%0A%20%20%20%20%20%20%20%20%22color%22%3A%20%7B%0A%20%20%20%20%20%20%20%20%20%20%20%20%22inherit%22%3A%20true%0A%20%20%20%20%20%20%20%20%7D%2C%0A%20%20%20%20%20%20%20%20%22smooth%22%3A%20%7B%0A%20%20%20%20%20%20%20%20%20%20%20%20%22enabled%22%3A%20false%2C%0A%20%20%20%20%20%20%20%20%20%20%20%20%22type%22%3A%20%22continuous%22%0A%20%20%20%20%20%20%20%20%7D%0A%20%20%20%20%7D%2C%0A%20%20%20%20%22interaction%22%3A%20%7B%0A%20%20%20%20%20%20%20%20%22dragNodes%22%3A%20true%2C%0A%20%20%20%20%20%20%20%20%22hideEdgesOnDrag%22%3A%20false%2C%0A%20%20%20%20%20%20%20%20%22hideNodesOnDrag%22%3A%20false%0A%20%20%20%20%7D%2C%0A%20%20%20%20%22physics%22%3A%20%7B%0A%20%20%20%20%20%20%20%20%22enabled%22%3A%20true%2C%0A%20%20%20%20%20%20%20%20%22stabilization%22%3A%20%7B%0A%20%20%20%20%20%20%20%20%20%20%20%20%22enabled%22%3A%20true%2C%0A%20%20%20%20%20%20%20%20%20%20%20%20%22fit%22%3A%20true%2C%0A%20%20%20%20%20%20%20%20%20%20%20%20%22iterations%22%3A%201000%2C%0A%20%20%20%20%20%20%20%20%20%20%20%20%22onlyDynamicEdges%22%3A%20false%2C%0A%20%20%20%20%20%20%20%20%20%20%20%20%22updateInterval%22%3A%2050%0A%20%20%20%20%20%20%20%20%7D%0A%20%20%20%20%7D%0A%7D%3B%0A%20%20%20%20%20%20%20%20%0A%20%20%20%20%20%20%20%20%0A%0A%20%20%20%20%20%20%20%20%0A%0A%20%20%20%20%20%20%20%20network%20%3D%20new%20vis.Network%28container%2C%20data%2C%20options%29%3B%0A%09%20%0A%20%20%20%20%20%20%20%20%0A%0A%0A%20%20%20%20%20%20%20%20%0A%0A%20%20%20%20%20%20%20%20return%20network%3B%0A%0A%20%20%20%20%7D%0A%0A%20%20%20%20drawGraph%28%29%3B%0A%0A%3C/script%3E%0A%3C/body%3E%0A%3C/html%3E\"\n",
       "            frameborder=\"0\"\n",
       "            allowfullscreen\n",
       "            \n",
       "        ></iframe>\n",
       "        "
      ],
      "text/plain": [
       "<IPython.lib.display.IFrame at 0x7f32ca9ad970>"
      ]
     },
     "execution_count": 11,
     "metadata": {},
     "output_type": "execute_result"
    }
   ],
   "source": [
    "draw(neighbourhood(G1, node, filter_function=top_n_filter(10)))"
   ]
  },
  {
   "cell_type": "code",
   "execution_count": 12,
   "id": "7e6a9ddd-94d6-4502-993d-ce2657a06506",
   "metadata": {},
   "outputs": [
    {
     "data": {
      "text/html": [
       "\n",
       "        <iframe\n",
       "            width=\"510\"\n",
       "            height=\"510\"\n",
       "            src=\"data:text/html;charset=utf-8,%3Chtml%3E%0A%3Chead%3E%0A%3Clink%20rel%3D%22stylesheet%22%20href%3D%22https%3A//cdnjs.cloudflare.com/ajax/libs/vis/4.16.1/vis.css%22%20type%3D%22text/css%22%20/%3E%0A%3Cscript%20type%3D%22text/javascript%22%20src%3D%22https%3A//cdnjs.cloudflare.com/ajax/libs/vis/4.16.1/vis-network.min.js%22%3E%20%3C/script%3E%0A%3Ccenter%3E%0A%3Ch1%3E%3C/h1%3E%0A%3C/center%3E%0A%0A%3C%21--%20%3Clink%20rel%3D%22stylesheet%22%20href%3D%22../node_modules/vis/dist/vis.min.css%22%20type%3D%22text/css%22%20/%3E%0A%3Cscript%20type%3D%22text/javascript%22%20src%3D%22../node_modules/vis/dist/vis.js%22%3E%20%3C/script%3E--%3E%0A%0A%3Cstyle%20type%3D%22text/css%22%3E%0A%0A%20%20%20%20%20%20%20%20%23mynetwork%20%7B%0A%20%20%20%20%20%20%20%20%20%20%20%20width%3A%20500px%3B%0A%20%20%20%20%20%20%20%20%20%20%20%20height%3A%20500px%3B%0A%20%20%20%20%20%20%20%20%20%20%20%20background-color%3A%20%23ffffff%3B%0A%20%20%20%20%20%20%20%20%20%20%20%20border%3A%201px%20solid%20lightgray%3B%0A%20%20%20%20%20%20%20%20%20%20%20%20position%3A%20relative%3B%0A%20%20%20%20%20%20%20%20%20%20%20%20float%3A%20left%3B%0A%20%20%20%20%20%20%20%20%7D%0A%0A%20%20%20%20%20%20%20%20%0A%0A%20%20%20%20%20%20%20%20%0A%0A%20%20%20%20%20%20%20%20%0A%3C/style%3E%0A%0A%3C/head%3E%0A%0A%3Cbody%3E%0A%3Cdiv%20id%20%3D%20%22mynetwork%22%3E%3C/div%3E%0A%0A%0A%3Cscript%20type%3D%22text/javascript%22%3E%0A%0A%20%20%20%20//%20initialize%20global%20variables.%0A%20%20%20%20var%20edges%3B%0A%20%20%20%20var%20nodes%3B%0A%20%20%20%20var%20network%3B%20%0A%20%20%20%20var%20container%3B%0A%20%20%20%20var%20options%2C%20data%3B%0A%0A%20%20%20%20%0A%20%20%20%20//%20This%20method%20is%20responsible%20for%20drawing%20the%20graph%2C%20returns%20the%20drawn%20network%0A%20%20%20%20function%20drawGraph%28%29%20%7B%0A%20%20%20%20%20%20%20%20var%20container%20%3D%20document.getElementById%28%27mynetwork%27%29%3B%0A%20%20%20%20%20%20%20%20%0A%20%20%20%20%20%20%20%20%0A%0A%20%20%20%20%20%20%20%20//%20parsing%20and%20collecting%20nodes%20and%20edges%20from%20the%20python%0A%20%20%20%20%20%20%20%20nodes%20%3D%20new%20vis.DataSet%28%5B%7B%22id%22%3A%20%22hath%22%2C%20%22label%22%3A%20%22hath%22%2C%20%22shape%22%3A%20%22dot%22%2C%20%22size%22%3A%2010%7D%2C%20%7B%22id%22%3A%20%22bewitch%22%2C%20%22label%22%3A%20%22bewitch%22%2C%20%22shape%22%3A%20%22dot%22%2C%20%22size%22%3A%2010%7D%2C%20%7B%22id%22%3A%20%22charm%22%2C%20%22label%22%3A%20%22charm%22%2C%20%22shape%22%3A%20%22dot%22%2C%20%22size%22%3A%2010%7D%2C%20%7B%22id%22%3A%20%22deed%22%2C%20%22label%22%3A%20%22deed%22%2C%20%22shape%22%3A%20%22dot%22%2C%20%22size%22%3A%2010%7D%2C%20%7B%22id%22%3A%20%22wit%22%2C%20%22label%22%3A%20%22wit%22%2C%20%22shape%22%3A%20%22dot%22%2C%20%22size%22%3A%2010%7D%2C%20%7B%22id%22%3A%20%22fetch%22%2C%20%22label%22%3A%20%22fetch%22%2C%20%22shape%22%3A%20%22dot%22%2C%20%22size%22%3A%2010%7D%2C%20%7B%22id%22%3A%20%22jaw%22%2C%20%22label%22%3A%20%22jaw%22%2C%20%22shape%22%3A%20%22dot%22%2C%20%22size%22%3A%2010%7D%2C%20%7B%22id%22%3A%20%22virtue%22%2C%20%22label%22%3A%20%22virtue%22%2C%20%22shape%22%3A%20%22dot%22%2C%20%22size%22%3A%2010%7D%2C%20%7B%22id%22%3A%20%22build%22%2C%20%22label%22%3A%20%22build%22%2C%20%22shape%22%3A%20%22dot%22%2C%20%22size%22%3A%2010%7D%2C%20%7B%22id%22%3A%20%22glad%22%2C%20%22label%22%3A%20%22glad%22%2C%20%22shape%22%3A%20%22dot%22%2C%20%22size%22%3A%2010%7D%2C%20%7B%22id%22%3A%20%22raise%22%2C%20%22label%22%3A%20%22raise%22%2C%20%22shape%22%3A%20%22dot%22%2C%20%22size%22%3A%2010%7D%5D%29%3B%0A%20%20%20%20%20%20%20%20edges%20%3D%20new%20vis.DataSet%28%5B%7B%22arrows%22%3A%20%22to%22%2C%20%22from%22%3A%20%22hath%22%2C%20%22label%22%3A%20%220.045%22%2C%20%22to%22%3A%20%22bewitch%22%2C%20%22value%22%3A%200.045454545454545456%2C%20%22weight%22%3A%200.045454545454545456%7D%2C%20%7B%22arrows%22%3A%20%22to%22%2C%20%22from%22%3A%20%22hath%22%2C%20%22label%22%3A%20%220.024%22%2C%20%22to%22%3A%20%22charm%22%2C%20%22value%22%3A%200.024096385542168676%2C%20%22weight%22%3A%200.024096385542168676%7D%2C%20%7B%22arrows%22%3A%20%22to%22%2C%20%22from%22%3A%20%22hath%22%2C%20%22label%22%3A%20%220.023%22%2C%20%22to%22%3A%20%22deed%22%2C%20%22value%22%3A%200.022727272727272728%2C%20%22weight%22%3A%200.022727272727272728%7D%2C%20%7B%22arrows%22%3A%20%22to%22%2C%20%22from%22%3A%20%22hath%22%2C%20%22label%22%3A%20%220.021%22%2C%20%22to%22%3A%20%22wit%22%2C%20%22value%22%3A%200.020833333333333332%2C%20%22weight%22%3A%200.020833333333333332%7D%2C%20%7B%22arrows%22%3A%20%22to%22%2C%20%22from%22%3A%20%22hath%22%2C%20%22label%22%3A%20%220.018%22%2C%20%22to%22%3A%20%22fetch%22%2C%20%22value%22%3A%200.017543859649122806%2C%20%22weight%22%3A%200.017543859649122806%7D%2C%20%7B%22arrows%22%3A%20%22to%22%2C%20%22from%22%3A%20%22hath%22%2C%20%22label%22%3A%20%220.018%22%2C%20%22to%22%3A%20%22jaw%22%2C%20%22value%22%3A%200.017543859649122806%2C%20%22weight%22%3A%200.017543859649122806%7D%2C%20%7B%22arrows%22%3A%20%22to%22%2C%20%22from%22%3A%20%22hath%22%2C%20%22label%22%3A%20%220.016%22%2C%20%22to%22%3A%20%22virtue%22%2C%20%22value%22%3A%200.015873015873015872%2C%20%22weight%22%3A%200.015873015873015872%7D%2C%20%7B%22arrows%22%3A%20%22to%22%2C%20%22from%22%3A%20%22hath%22%2C%20%22label%22%3A%20%220.008%22%2C%20%22to%22%3A%20%22build%22%2C%20%22value%22%3A%200.007575757575757576%2C%20%22weight%22%3A%200.007575757575757576%7D%2C%20%7B%22arrows%22%3A%20%22to%22%2C%20%22from%22%3A%20%22hath%22%2C%20%22label%22%3A%20%220.006%22%2C%20%22to%22%3A%20%22glad%22%2C%20%22value%22%3A%200.0064516129032258064%2C%20%22weight%22%3A%200.0064516129032258064%7D%2C%20%7B%22arrows%22%3A%20%22to%22%2C%20%22from%22%3A%20%22hath%22%2C%20%22label%22%3A%20%220.004%22%2C%20%22to%22%3A%20%22raise%22%2C%20%22value%22%3A%200.004081632653061225%2C%20%22weight%22%3A%200.004081632653061225%7D%5D%29%3B%0A%0A%20%20%20%20%20%20%20%20//%20adding%20nodes%20and%20edges%20to%20the%20graph%0A%20%20%20%20%20%20%20%20data%20%3D%20%7Bnodes%3A%20nodes%2C%20edges%3A%20edges%7D%3B%0A%0A%20%20%20%20%20%20%20%20var%20options%20%3D%20%7B%0A%20%20%20%20%22configure%22%3A%20%7B%0A%20%20%20%20%20%20%20%20%22enabled%22%3A%20false%0A%20%20%20%20%7D%2C%0A%20%20%20%20%22edges%22%3A%20%7B%0A%20%20%20%20%20%20%20%20%22color%22%3A%20%7B%0A%20%20%20%20%20%20%20%20%20%20%20%20%22inherit%22%3A%20true%0A%20%20%20%20%20%20%20%20%7D%2C%0A%20%20%20%20%20%20%20%20%22smooth%22%3A%20%7B%0A%20%20%20%20%20%20%20%20%20%20%20%20%22enabled%22%3A%20false%2C%0A%20%20%20%20%20%20%20%20%20%20%20%20%22type%22%3A%20%22continuous%22%0A%20%20%20%20%20%20%20%20%7D%0A%20%20%20%20%7D%2C%0A%20%20%20%20%22interaction%22%3A%20%7B%0A%20%20%20%20%20%20%20%20%22dragNodes%22%3A%20true%2C%0A%20%20%20%20%20%20%20%20%22hideEdgesOnDrag%22%3A%20false%2C%0A%20%20%20%20%20%20%20%20%22hideNodesOnDrag%22%3A%20false%0A%20%20%20%20%7D%2C%0A%20%20%20%20%22physics%22%3A%20%7B%0A%20%20%20%20%20%20%20%20%22enabled%22%3A%20true%2C%0A%20%20%20%20%20%20%20%20%22stabilization%22%3A%20%7B%0A%20%20%20%20%20%20%20%20%20%20%20%20%22enabled%22%3A%20true%2C%0A%20%20%20%20%20%20%20%20%20%20%20%20%22fit%22%3A%20true%2C%0A%20%20%20%20%20%20%20%20%20%20%20%20%22iterations%22%3A%201000%2C%0A%20%20%20%20%20%20%20%20%20%20%20%20%22onlyDynamicEdges%22%3A%20false%2C%0A%20%20%20%20%20%20%20%20%20%20%20%20%22updateInterval%22%3A%2050%0A%20%20%20%20%20%20%20%20%7D%0A%20%20%20%20%7D%0A%7D%3B%0A%20%20%20%20%20%20%20%20%0A%20%20%20%20%20%20%20%20%0A%0A%20%20%20%20%20%20%20%20%0A%0A%20%20%20%20%20%20%20%20network%20%3D%20new%20vis.Network%28container%2C%20data%2C%20options%29%3B%0A%09%20%0A%20%20%20%20%20%20%20%20%0A%0A%0A%20%20%20%20%20%20%20%20%0A%0A%20%20%20%20%20%20%20%20return%20network%3B%0A%0A%20%20%20%20%7D%0A%0A%20%20%20%20drawGraph%28%29%3B%0A%0A%3C/script%3E%0A%3C/body%3E%0A%3C/html%3E\"\n",
       "            frameborder=\"0\"\n",
       "            allowfullscreen\n",
       "            \n",
       "        ></iframe>\n",
       "        "
      ],
      "text/plain": [
       "<IPython.lib.display.IFrame at 0x7f32ca9ad640>"
      ]
     },
     "execution_count": 12,
     "metadata": {},
     "output_type": "execute_result"
    }
   ],
   "source": [
    "draw(neighbourhood(G2, node, filter_function=top_n_filter(10)))"
   ]
  }
 ],
 "metadata": {
  "kernelspec": {
   "display_name": "Python 3 (ipykernel)",
   "language": "python",
   "name": "python3"
  },
  "language_info": {
   "codemirror_mode": {
    "name": "ipython",
    "version": 3
   },
   "file_extension": ".py",
   "mimetype": "text/x-python",
   "name": "python",
   "nbconvert_exporter": "python",
   "pygments_lexer": "ipython3",
   "version": "3.9.7"
  }
 },
 "nbformat": 4,
 "nbformat_minor": 5
}
