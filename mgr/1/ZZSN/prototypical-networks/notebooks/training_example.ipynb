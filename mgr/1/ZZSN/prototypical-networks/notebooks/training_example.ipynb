{
 "cells": [
  {
   "cell_type": "code",
   "execution_count": 1,
   "id": "d5327704-268f-42a1-903f-de8d625b1bd3",
   "metadata": {},
   "outputs": [],
   "source": [
    "from protosound.data import FSD50KSpectro, RandomSplit\n",
    "from protosound.modules import SoundEmbedding, SoundClassifier\n",
    "from pytorch_lightning import Trainer"
   ]
  },
  {
   "cell_type": "code",
   "execution_count": 2,
   "id": "8e7aa72c-7014-48a8-9283-4c9eb06a2e58",
   "metadata": {},
   "outputs": [],
   "source": [
    "dataset = FSD50KSpectro(\"../my-data\")\n",
    "datamodule = RandomSplit(dataset)"
   ]
  },
  {
   "cell_type": "code",
   "execution_count": 3,
   "id": "9bba6bc4-7399-45e5-96b9-b7751c31f493",
   "metadata": {},
   "outputs": [],
   "source": [
    "model = SoundClassifier(SoundEmbedding(512), len(dataset.classes))"
   ]
  },
  {
   "cell_type": "code",
   "execution_count": 4,
   "id": "bb9ed3bf-59ee-40f8-a91b-669d1e60e31e",
   "metadata": {},
   "outputs": [
    {
     "name": "stderr",
     "output_type": "stream",
     "text": [
      "GPU available: True, used: False\n",
      "TPU available: False, using: 0 TPU cores\n",
      "/home/scoutboy/miniconda3/envs/protosound/lib/python3.9/site-packages/pytorch_lightning/utilities/distributed.py:69: UserWarning: GPU available but not used. Set the gpus flag in your trainer `Trainer(gpus=1)` or script `--gpus=1`.\n",
      "  warnings.warn(*args, **kwargs)\n"
     ]
    }
   ],
   "source": [
    "trainer = Trainer(max_epochs=10, limit_train_batches=1, limit_val_batches=1, limit_test_batches=1)"
   ]
  },
  {
   "cell_type": "code",
   "execution_count": 5,
   "id": "370dedb3-8058-4fda-9957-f84e222d6514",
   "metadata": {},
   "outputs": [
    {
     "name": "stderr",
     "output_type": "stream",
     "text": [
      "\n",
      "  | Name    | Type       | Params\n",
      "---------------------------------------\n",
      "0 | network | Sequential | 324 K \n",
      "1 | loss    | NLLLoss    | 0     \n",
      "2 | metric  | Accuracy   | 0     \n",
      "---------------------------------------\n",
      "324 K     Trainable params\n",
      "0         Non-trainable params\n",
      "324 K     Total params\n",
      "1.298     Total estimated model params size (MB)\n"
     ]
    },
    {
     "name": "stdout",
     "output_type": "stream",
     "text": [
      "Validation sanity check:   0%|          | 0/1 [00:00<?, ?it/s]"
     ]
    },
    {
     "name": "stderr",
     "output_type": "stream",
     "text": [
      "/home/scoutboy/miniconda3/envs/protosound/lib/python3.9/site-packages/pytorch_lightning/utilities/distributed.py:69: UserWarning: Your val_dataloader has `shuffle=True`, it is best practice to turn this off for val/test/predict dataloaders.\n",
      "  warnings.warn(*args, **kwargs)\n",
      "/home/scoutboy/miniconda3/envs/protosound/lib/python3.9/site-packages/pytorch_lightning/utilities/distributed.py:69: UserWarning: The dataloader, val dataloader 0, does not have many workers which may be a bottleneck. Consider increasing the value of the `num_workers` argument` (try 4 which is the number of cpus on this machine) in the `DataLoader` init to improve performance.\n",
      "  warnings.warn(*args, **kwargs)\n"
     ]
    },
    {
     "name": "stdout",
     "output_type": "stream",
     "text": [
      "Validation sanity check: 100%|██████████| 1/1 [00:00<00:00,  2.95it/s]"
     ]
    },
    {
     "name": "stderr",
     "output_type": "stream",
     "text": [
      "/home/scoutboy/miniconda3/envs/protosound/lib/python3.9/site-packages/torch/nn/modules/container.py:119: UserWarning: Implicit dimension choice for log_softmax has been deprecated. Change the call to include dim=X as an argument.\n",
      "  input = module(input)\n"
     ]
    },
    {
     "name": "stdout",
     "output_type": "stream",
     "text": [
      "Epoch 0:   0%|          | 0/2 [00:00<?, ?it/s]                        "
     ]
    },
    {
     "name": "stderr",
     "output_type": "stream",
     "text": [
      "/home/scoutboy/miniconda3/envs/protosound/lib/python3.9/site-packages/pytorch_lightning/utilities/distributed.py:69: UserWarning: The dataloader, train dataloader, does not have many workers which may be a bottleneck. Consider increasing the value of the `num_workers` argument` (try 4 which is the number of cpus on this machine) in the `DataLoader` init to improve performance.\n",
      "  warnings.warn(*args, **kwargs)\n"
     ]
    },
    {
     "name": "stdout",
     "output_type": "stream",
     "text": [
      "Epoch 0:  50%|█████     | 1/2 [00:00<00:00,  2.33it/s, loss=2.99, v_num=5]\n",
      "Validating: 0it [00:00, ?it/s]\u001b[A\n",
      "Validating:   0%|          | 0/1 [00:00<?, ?it/s]\u001b[A\n",
      "Epoch 0: 100%|██████████| 2/2 [00:01<00:00,  1.97it/s, loss=2.99, v_num=5]\n",
      "Epoch 1:  50%|█████     | 1/2 [00:00<00:00,  2.26it/s, loss=2.99, v_num=5]\n",
      "Validating: 0it [00:00, ?it/s]\u001b[A\n",
      "Validating:   0%|          | 0/1 [00:00<?, ?it/s]\u001b[A\n",
      "Epoch 1: 100%|██████████| 2/2 [00:00<00:00,  2.15it/s, loss=2.99, v_num=5]\n",
      "Epoch 2:  50%|█████     | 1/2 [00:00<00:00,  2.59it/s, loss=2.99, v_num=5]\n",
      "Validating: 0it [00:00, ?it/s]\u001b[A\n",
      "Validating:   0%|          | 0/1 [00:00<?, ?it/s]\u001b[A\n",
      "Epoch 2: 100%|██████████| 2/2 [00:00<00:00,  2.82it/s, loss=2.99, v_num=5]\n",
      "Epoch 3:  50%|█████     | 1/2 [00:00<00:00,  2.24it/s, loss=3.01, v_num=5]\n",
      "Validating: 0it [00:00, ?it/s]\u001b[A\n",
      "Validating:   0%|          | 0/1 [00:00<?, ?it/s]\u001b[A\n",
      "Epoch 3: 100%|██████████| 2/2 [00:01<00:00,  1.57it/s, loss=3.01, v_num=5]\n",
      "Epoch 4:  50%|█████     | 1/2 [00:00<00:00,  2.43it/s, loss=3, v_num=5]   \n",
      "Validating: 0it [00:00, ?it/s]\u001b[A\n",
      "Validating:   0%|          | 0/1 [00:00<?, ?it/s]\u001b[A\n",
      "Epoch 4: 100%|██████████| 2/2 [00:00<00:00,  2.95it/s, loss=3, v_num=5]\n",
      "Epoch 5:  50%|█████     | 1/2 [00:00<00:00,  2.62it/s, loss=2.98, v_num=5]\n",
      "Validating: 0it [00:00, ?it/s]\u001b[A\n",
      "Validating:   0%|          | 0/1 [00:00<?, ?it/s]\u001b[A\n",
      "Epoch 5: 100%|██████████| 2/2 [00:00<00:00,  2.26it/s, loss=2.98, v_num=5]\n",
      "Epoch 6:  50%|█████     | 1/2 [00:00<00:00,  1.69it/s, loss=2.95, v_num=5]\n",
      "Validating: 0it [00:00, ?it/s]\u001b[A\n",
      "Epoch 6: 100%|██████████| 2/2 [00:00<00:00,  2.75it/s, loss=2.95, v_num=5]\n",
      "Epoch 7:  50%|█████     | 1/2 [00:00<00:00,  2.72it/s, loss=2.98, v_num=5]\n",
      "Validating: 0it [00:00, ?it/s]\u001b[A\n",
      "Validating:   0%|          | 0/1 [00:00<?, ?it/s]\u001b[A\n",
      "Epoch 7: 100%|██████████| 2/2 [00:00<00:00,  3.52it/s, loss=2.98, v_num=5]\n",
      "Epoch 8:  50%|█████     | 1/2 [00:00<00:00,  2.86it/s, loss=2.99, v_num=5]\n",
      "Validating: 0it [00:00, ?it/s]\u001b[A\n",
      "Validating:   0%|          | 0/1 [00:00<?, ?it/s]\u001b[A\n",
      "Epoch 8: 100%|██████████| 2/2 [00:00<00:00,  3.97it/s, loss=2.99, v_num=5]\n",
      "Epoch 9:  50%|█████     | 1/2 [00:00<00:00,  4.99it/s, loss=3.02, v_num=5]\n",
      "Validating: 0it [00:00, ?it/s]\u001b[A\n",
      "Validating:   0%|          | 0/1 [00:00<?, ?it/s]\u001b[A\n",
      "Epoch 9: 100%|██████████| 2/2 [00:00<00:00,  5.31it/s, loss=3.02, v_num=5]\n",
      "Epoch 9: 100%|██████████| 2/2 [00:00<00:00,  5.21it/s, loss=3.02, v_num=5]\n"
     ]
    }
   ],
   "source": [
    "trainer.fit(model, datamodule)"
   ]
  },
  {
   "cell_type": "code",
   "execution_count": 6,
   "id": "d2f24e14-d265-42f6-af71-38ea1e2c0f70",
   "metadata": {},
   "outputs": [
    {
     "name": "stdout",
     "output_type": "stream",
     "text": [
      "Testing: 0it [00:00, ?it/s]"
     ]
    },
    {
     "name": "stderr",
     "output_type": "stream",
     "text": [
      "/home/scoutboy/miniconda3/envs/protosound/lib/python3.9/site-packages/pytorch_lightning/utilities/distributed.py:69: UserWarning: Your test_dataloader has `shuffle=True`, it is best practice to turn this off for val/test/predict dataloaders.\n",
      "  warnings.warn(*args, **kwargs)\n",
      "/home/scoutboy/miniconda3/envs/protosound/lib/python3.9/site-packages/pytorch_lightning/utilities/distributed.py:69: UserWarning: The dataloader, test dataloader 0, does not have many workers which may be a bottleneck. Consider increasing the value of the `num_workers` argument` (try 4 which is the number of cpus on this machine) in the `DataLoader` init to improve performance.\n",
      "  warnings.warn(*args, **kwargs)\n"
     ]
    },
    {
     "name": "stdout",
     "output_type": "stream",
     "text": [
      "Testing: 100%|██████████| 1/1 [00:00<00:00,  4.12it/s]\n",
      "--------------------------------------------------------------------------------\n",
      "DATALOADER:0 TEST RESULTS\n",
      "{'test_loss': 3.2412519454956055, 'test_metric': 0.0}\n",
      "--------------------------------------------------------------------------------\n"
     ]
    },
    {
     "data": {
      "text/plain": [
       "[{'test_metric': 0.0, 'test_loss': 3.2412519454956055}]"
      ]
     },
     "execution_count": 6,
     "metadata": {},
     "output_type": "execute_result"
    }
   ],
   "source": [
    "trainer.test()"
   ]
  }
 ],
 "metadata": {
  "kernelspec": {
   "display_name": "Python 3",
   "language": "python",
   "name": "python3"
  },
  "language_info": {
   "codemirror_mode": {
    "name": "ipython",
    "version": 3
   },
   "file_extension": ".py",
   "mimetype": "text/x-python",
   "name": "python",
   "nbconvert_exporter": "python",
   "pygments_lexer": "ipython3",
   "version": "3.9.4"
  }
 },
 "nbformat": 4,
 "nbformat_minor": 5
}
