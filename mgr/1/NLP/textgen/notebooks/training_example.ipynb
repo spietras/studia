{
 "cells": [
  {
   "cell_type": "code",
   "execution_count": 1,
   "id": "47b4b5cd-541b-4c94-8b3f-22ea73b5c1ff",
   "metadata": {
    "tags": []
   },
   "outputs": [],
   "source": [
    "from textgen.data.modules import SentenceCompletionIterableSplitFromStrings\n",
    "from textgen.model.transformer import Transformer, TransformerModel\n",
    "from textgen.generation import TransformerGreedySentenceGenerator\n",
    "from pytorch_lightning import Trainer\n",
    "import torch\n",
    "import os"
   ]
  },
  {
   "cell_type": "code",
   "execution_count": 2,
   "id": "33b9fab9-9810-45c2-8b66-330fa05cac6d",
   "metadata": {},
   "outputs": [],
   "source": [
    "train_text = \"\"\"Lorem ipsum dolor sit amet, consectetur adipiscing elit. Duis in sapien a turpis ullamcorper iaculis. \n",
    "                Vivamus ut mi sed nisl maximus vehicula. Aliquam non augue eget enim tempus posuere ut id dui. \n",
    "                Pellentesque habitant morbi tristique senectus et netus et malesuada fames ac turpis egestas. \n",
    "                Mauris sed bibendum lorem. Nam laoreet nibh ac rutrum ultrices. \n",
    "                Fusce quis porttitor orci, a vestibulum justo. Maecenas varius sapien justo, id fringilla risus lobortis rhoncus. \n",
    "                Vestibulum nec consectetur arcu. Maecenas varius non diam eu laoreet.\n",
    "                Quisque eu mattis magna. Donec rhoncus ante sit amet augue egestas imperdiet. \n",
    "                Nulla facilisi. Vestibulum eget orci sed ante euismod tempus sit amet eu ante. \n",
    "                Cras vestibulum eget eros non rhoncus. Curabitur sit amet nisl leo. \n",
    "                Mauris egestas sapien tristique sagittis ultricies. Cras cursus quam id dui cursus, nec tincidunt diam fermentum. \n",
    "                Cras a lectus lorem. Etiam vitae tincidunt odio. Aliquam sapien ex, eleifend at ante non, gravida vestibulum eros.\n",
    "                Morbi et elementum lacus. Morbi vel sagittis urna. Sed eu scelerisque libero. \n",
    "                Suspendisse volutpat iaculis velit vel finibus. Pellentesque eleifend lacus ac auctor ultricies. \n",
    "                Vivamus fermentum pulvinar viverra. Pellentesque luctus facilisis lacinia. \n",
    "                Sed efficitur, tellus nec rutrum cursus, neque magna sollicitudin enim, quis efficitur massa justo et urna.\"\"\"\n",
    "val_text =   \"\"\"Etiam eget ipsum tincidunt, lobortis metus id, eleifend arcu. Pellentesque consectetur placerat quam ut varius. \n",
    "                Proin porta, elit et volutpat accumsan, quam est eleifend nisi, in tincidunt lacus ipsum quis mauris. \n",
    "                Nulla condimentum eu nibh sed ornare.\"\"\"\n",
    "test_text =  \"\"\"Etiam ligula velit, molestie et semper vel, finibus id sem. \n",
    "                Donec pharetra nisl erat, nec scelerisque neque congue non. Praesent blandit elit sed ipsum porttitor maximus. \n",
    "                Mauris quis ipsum mollis, ullamcorper ante sit amet, efficitur risus. \n",
    "                Maecenas ipsum arcu, aliquam ut orci non, laoreet porta risus. \n",
    "                Nullam euismod blandit libero, quis consectetur est lacinia sed. Quisque consectetur ante ut orci iaculis feugiat. \n",
    "                Mauris blandit, dui vel maximus luctus, ligula eros tempus mi, vitae dapibus dui elit in purus. \n",
    "                Maecenas sed euismod orci. Nunc auctor sit amet diam et malesuada. \n",
    "                Vestibulum eget lorem dapibus eros pellentesque rutrum. Aliquam gravida tellus vel porttitor tincidunt. \n",
    "                Vivamus libero lectus, egestas vitae gravida a, lobortis feugiat leo.\"\"\""
   ]
  },
  {
   "cell_type": "code",
   "execution_count": 3,
   "id": "dd4ad2e9-85c8-481d-b513-7b69ad819849",
   "metadata": {},
   "outputs": [],
   "source": [
    "max_length = 20\n",
    "batch_size = 64\n",
    "num_workers = os.cpu_count()"
   ]
  },
  {
   "cell_type": "code",
   "execution_count": 4,
   "id": "3b56bfd2-f0a7-41f2-aaf3-311f0a6e1520",
   "metadata": {},
   "outputs": [],
   "source": [
    "dm = SentenceCompletionIterableSplitFromStrings(train_text, val_text, test_text, \n",
    "                                                max_length=max_length, batch_size=batch_size, num_workers=num_workers)\n",
    "vocab_size = len(dm.train_dataset.sentences.tokens)"
   ]
  },
  {
   "cell_type": "code",
   "execution_count": 5,
   "id": "15497f44-5628-43b0-9b7f-6281ff7c995c",
   "metadata": {},
   "outputs": [],
   "source": [
    "d_model = 64\n",
    "d_ff = 16\n",
    "num_heads = 4\n",
    "num_layers = 4\n",
    "drop_out_rate = 0.01"
   ]
  },
  {
   "cell_type": "code",
   "execution_count": 6,
   "id": "b6b48111-b021-4b01-99f3-faf3a9bf8b14",
   "metadata": {},
   "outputs": [],
   "source": [
    "t = Transformer(TransformerModel(vocab_size, vocab_size, d_model, d_ff, num_heads, num_layers, drop_out_rate, max_length),\n",
    "                dm.train_dataset.pad_id, lr=0.01)"
   ]
  },
  {
   "cell_type": "code",
   "execution_count": 7,
   "id": "98f200f5-c315-4084-8671-5fe47d667007",
   "metadata": {},
   "outputs": [
    {
     "name": "stderr",
     "output_type": "stream",
     "text": [
      "GPU available: True, used: True\n",
      "TPU available: False, using: 0 TPU cores\n"
     ]
    }
   ],
   "source": [
    "trainer = Trainer(max_epochs=30, gpus=int(torch.cuda.is_available()))"
   ]
  },
  {
   "cell_type": "code",
   "execution_count": 8,
   "id": "330cb1e3-d530-4583-9a88-e95c000e6cda",
   "metadata": {},
   "outputs": [
    {
     "name": "stderr",
     "output_type": "stream",
     "text": [
      "LOCAL_RANK: 0 - CUDA_VISIBLE_DEVICES: [0]\n",
      "\n",
      "  | Name   | Type             | Params\n",
      "--------------------------------------------\n",
      "0 | model  | TransformerModel | 248 K \n",
      "1 | loss   | NLLLoss          | 0     \n",
      "2 | metric | Accuracy         | 0     \n",
      "--------------------------------------------\n",
      "248 K     Trainable params\n",
      "0         Non-trainable params\n",
      "248 K     Total params\n",
      "0.993     Total estimated model params size (MB)\n"
     ]
    },
    {
     "name": "stdout",
     "output_type": "stream",
     "text": [
      "Epoch 0: : 5it [00:02,  2.06it/s, loss=4.18, v_num=0]                 \n",
      "Validating: 0it [00:00, ?it/s]\u001b[A\n",
      "Validating: 0it [00:00, ?it/s]\u001b[A\n",
      "Epoch 0: : 7it [00:02,  2.39it/s, loss=4.18, v_num=0]\n",
      "Epoch 0: : 9it [00:03,  2.27it/s, loss=4.18, v_num=0]\n",
      "Epoch 1: : 4it [00:02,  1.82it/s, loss=3.49, v_num=0]\n",
      "Validating: 0it [00:00, ?it/s]\u001b[A\n",
      "Validating: 0it [00:00, ?it/s]\u001b[A\n",
      "Epoch 1: : 6it [00:02,  2.23it/s, loss=3.49, v_num=0]\n",
      "Epoch 1: : 9it [00:03,  2.58it/s, loss=3.49, v_num=0]\n",
      "Epoch 2: : 4it [00:02,  1.74it/s, loss=3.01, v_num=0]\n",
      "Validating: 0it [00:00, ?it/s]\u001b[A\n",
      "Validating: 0it [00:00, ?it/s]\u001b[A\n",
      "Epoch 2: : 6it [00:02,  2.16it/s, loss=3.01, v_num=0]\n",
      "Epoch 2: : 8it [00:02,  2.73it/s, loss=3.01, v_num=0]\n",
      "Epoch 2: : 9it [00:03,  2.52it/s, loss=3.01, v_num=0]\n",
      "Epoch 3: : 4it [00:02,  1.63it/s, loss=2.63, v_num=0]\n",
      "Validating: 0it [00:00, ?it/s]\u001b[A\n",
      "Validating: 0it [00:00, ?it/s]\u001b[A\n",
      "Epoch 3: : 6it [00:02,  2.05it/s, loss=2.63, v_num=0]\n",
      "Epoch 3: : 9it [00:03,  2.59it/s, loss=2.63, v_num=0]\n",
      "Epoch 4: : 4it [00:02,  1.59it/s, loss=2.36, v_num=0]\n",
      "Validating: 0it [00:00, ?it/s]\u001b[A\n",
      "Validating: 0it [00:00, ?it/s]\u001b[A\n",
      "Epoch 4: : 6it [00:03,  1.99it/s, loss=2.36, v_num=0]\n",
      "Epoch 4: : 9it [00:04,  2.23it/s, loss=2.36, v_num=0]\n",
      "Epoch 5: : 4it [00:02,  1.61it/s, loss=1.72, v_num=0]\n",
      "Validating: 0it [00:00, ?it/s]\u001b[A\n",
      "Validating: 0it [00:00, ?it/s]\u001b[A\n",
      "Epoch 5: : 6it [00:02,  2.02it/s, loss=1.72, v_num=0]\n",
      "Epoch 5: : 9it [00:04,  2.24it/s, loss=1.72, v_num=0]\n",
      "Epoch 6: : 4it [00:02,  1.61it/s, loss=1.32, v_num=0]\n",
      "Validating: 0it [00:00, ?it/s]\u001b[A\n",
      "Validating: 0it [00:00, ?it/s]\u001b[A\n",
      "Epoch 6: : 6it [00:03,  1.78it/s, loss=1.32, v_num=0]\n",
      "Epoch 6: : 8it [00:03,  2.26it/s, loss=1.32, v_num=0]\n",
      "Epoch 6: : 9it [00:04,  2.24it/s, loss=1.32, v_num=0]\n",
      "Epoch 7: : 4it [00:02,  1.63it/s, loss=1.09, v_num=0]\n",
      "Validating: 0it [00:00, ?it/s]\u001b[A\n",
      "Validating: 0it [00:00, ?it/s]\u001b[A\n",
      "Epoch 7: : 6it [00:02,  2.03it/s, loss=1.09, v_num=0]\n",
      "Epoch 7: : 9it [00:03,  2.27it/s, loss=1.09, v_num=0]\n",
      "Epoch 8: : 4it [00:02,  1.81it/s, loss=0.91, v_num=0] \n",
      "Validating: 0it [00:00, ?it/s]\u001b[A\n",
      "Validating: 0it [00:00, ?it/s]\u001b[A\n",
      "Epoch 8: : 6it [00:02,  2.20it/s, loss=0.91, v_num=0]\n",
      "Epoch 8: : 9it [00:03,  2.40it/s, loss=0.91, v_num=0]\n",
      "Epoch 9: : 4it [00:02,  1.57it/s, loss=0.767, v_num=0]\n",
      "Validating: 0it [00:00, ?it/s]\u001b[A\n",
      "Validating: 0it [00:00, ?it/s]\u001b[A\n",
      "Epoch 9: : 6it [00:03,  1.97it/s, loss=0.767, v_num=0]\n",
      "Epoch 9: : 9it [00:04,  2.20it/s, loss=0.767, v_num=0]\n",
      "Epoch 10: : 4it [00:02,  1.58it/s, loss=0.68, v_num=0] \n",
      "Validating: 0it [00:00, ?it/s]\u001b[A\n",
      "Validating: 0it [00:00, ?it/s]\u001b[A\n",
      "Epoch 10: : 6it [00:03,  1.94it/s, loss=0.68, v_num=0]\n",
      "Epoch 10: : 8it [00:03,  2.48it/s, loss=0.68, v_num=0]\n",
      "Epoch 10: : 9it [00:03,  2.41it/s, loss=0.68, v_num=0]\n",
      "Epoch 11: : 4it [00:02,  1.57it/s, loss=0.598, v_num=0]\n",
      "Validating: 0it [00:00, ?it/s]\u001b[A\n",
      "Validating: 0it [00:00, ?it/s]\u001b[A\n",
      "Epoch 11: : 6it [00:03,  1.96it/s, loss=0.598, v_num=0]\n",
      "Epoch 11: : 8it [00:03,  2.48it/s, loss=0.598, v_num=0]\n",
      "Epoch 11: : 9it [00:04,  2.22it/s, loss=0.598, v_num=0]\n",
      "Epoch 12: : 4it [00:02,  1.57it/s, loss=0.49, v_num=0] \n",
      "Validating: 0it [00:00, ?it/s]\u001b[A\n",
      "Validating: 0it [00:00, ?it/s]\u001b[A\n",
      "Epoch 12: : 6it [00:03,  1.96it/s, loss=0.49, v_num=0]\n",
      "Epoch 12: : 9it [00:04,  2.20it/s, loss=0.49, v_num=0]\n",
      "Epoch 13: : 4it [00:03,  1.28it/s, loss=0.425, v_num=0]\n",
      "Validating: 0it [00:00, ?it/s]\u001b[A\n",
      "Validating: 0it [00:00, ?it/s]\u001b[A\n",
      "Epoch 13: : 6it [00:03,  1.63it/s, loss=0.425, v_num=0]\n",
      "Epoch 13: : 9it [00:04,  1.93it/s, loss=0.425, v_num=0]\n",
      "Epoch 14: : 4it [00:02,  1.46it/s, loss=0.386, v_num=0]\n",
      "Validating: 0it [00:00, ?it/s]\u001b[A\n",
      "Validating: 0it [00:00, ?it/s]\u001b[A\n",
      "Epoch 14: : 6it [00:03,  1.83it/s, loss=0.386, v_num=0]\n",
      "Epoch 14: : 9it [00:04,  2.11it/s, loss=0.386, v_num=0]\n",
      "Epoch 15: : 4it [00:02,  1.55it/s, loss=0.354, v_num=0]\n",
      "Validating: 0it [00:00, ?it/s]\u001b[A\n",
      "Validating: 0it [00:00, ?it/s]\u001b[A\n",
      "Epoch 15: : 6it [00:03,  1.96it/s, loss=0.354, v_num=0]\n",
      "Epoch 15: : 9it [00:04,  2.19it/s, loss=0.354, v_num=0]\n",
      "Epoch 16: : 4it [00:02,  1.44it/s, loss=0.328, v_num=0]\n",
      "Validating: 0it [00:00, ?it/s]\u001b[A\n",
      "Validating: 0it [00:00, ?it/s]\u001b[A\n",
      "Epoch 16: : 6it [00:03,  1.84it/s, loss=0.328, v_num=0]\n",
      "Epoch 16: : 9it [00:04,  2.23it/s, loss=0.328, v_num=0]\n",
      "Epoch 17: : 4it [00:02,  1.56it/s, loss=0.324, v_num=0]\n",
      "Validating: 0it [00:00, ?it/s]\u001b[A\n",
      "Validating: 0it [00:00, ?it/s]\u001b[A\n",
      "Epoch 17: : 6it [00:03,  1.93it/s, loss=0.324, v_num=0]\n",
      "Epoch 17: : 9it [00:04,  2.21it/s, loss=0.324, v_num=0]\n",
      "Epoch 18: : 4it [00:02,  1.61it/s, loss=0.316, v_num=0]\n",
      "Validating: 0it [00:00, ?it/s]\u001b[A\n",
      "Validating: 0it [00:00, ?it/s]\u001b[A\n",
      "Epoch 18: : 6it [00:03,  1.99it/s, loss=0.316, v_num=0]\n",
      "Epoch 18: : 9it [00:03,  2.40it/s, loss=0.316, v_num=0]\n",
      "Epoch 19: : 4it [00:02,  1.61it/s, loss=0.294, v_num=0]\n",
      "Validating: 0it [00:00, ?it/s]\u001b[A\n",
      "Validating: 0it [00:00, ?it/s]\u001b[A\n",
      "Epoch 19: : 6it [00:03,  1.98it/s, loss=0.294, v_num=0]\n",
      "Epoch 19: : 8it [00:03,  2.48it/s, loss=0.294, v_num=0]\n",
      "Epoch 19: : 9it [00:04,  2.20it/s, loss=0.294, v_num=0]\n",
      "Epoch 20: : 4it [00:02,  1.58it/s, loss=0.268, v_num=0]\n",
      "Validating: 0it [00:00, ?it/s]\u001b[A\n",
      "Validating: 0it [00:00, ?it/s]\u001b[A\n",
      "Epoch 20: : 6it [00:03,  1.94it/s, loss=0.268, v_num=0]\n",
      "Epoch 20: : 8it [00:03,  2.46it/s, loss=0.268, v_num=0]\n",
      "Epoch 20: : 9it [00:03,  2.36it/s, loss=0.268, v_num=0]\n",
      "Epoch 21: : 4it [00:03,  1.19it/s, loss=0.252, v_num=0]\n",
      "Validating: 0it [00:00, ?it/s]\u001b[A\n",
      "Validating: 0it [00:00, ?it/s]\u001b[A\n",
      "Epoch 21: : 6it [00:03,  1.52it/s, loss=0.252, v_num=0]\n",
      "Epoch 21: : 9it [00:04,  1.83it/s, loss=0.252, v_num=0]\n",
      "Epoch 22: : 4it [00:02,  1.44it/s, loss=0.246, v_num=0]\n",
      "Validating: 0it [00:00, ?it/s]\u001b[A\n",
      "Validating: 0it [00:00, ?it/s]\u001b[A\n",
      "Epoch 22: : 6it [00:03,  1.78it/s, loss=0.246, v_num=0]\n",
      "Epoch 22: : 9it [00:04,  2.06it/s, loss=0.246, v_num=0]\n",
      "Epoch 23: : 4it [00:02,  1.53it/s, loss=0.232, v_num=0]\n",
      "Validating: 0it [00:00, ?it/s]\u001b[A\n",
      "Validating: 0it [00:00, ?it/s]\u001b[A\n",
      "Epoch 23: : 6it [00:03,  1.88it/s, loss=0.232, v_num=0]\n",
      "Epoch 23: : 9it [00:03,  2.31it/s, loss=0.232, v_num=0]\n",
      "Epoch 24: : 4it [00:03,  1.26it/s, loss=0.234, v_num=0]\n",
      "Validating: 0it [00:00, ?it/s]\u001b[A\n",
      "Validating: 0it [00:00, ?it/s]\u001b[A\n",
      "Epoch 24: : 6it [00:03,  1.55it/s, loss=0.234, v_num=0]\n",
      "Epoch 24: : 9it [00:04,  1.96it/s, loss=0.234, v_num=0]\n",
      "Epoch 25: : 4it [00:02,  1.52it/s, loss=0.23, v_num=0] \n",
      "Validating: 0it [00:00, ?it/s]\u001b[A\n",
      "Validating: 0it [00:00, ?it/s]\u001b[A\n",
      "Epoch 25: : 6it [00:03,  1.86it/s, loss=0.23, v_num=0]\n",
      "Epoch 25: : 9it [00:04,  2.15it/s, loss=0.23, v_num=0]\n",
      "Epoch 26: : 4it [00:02,  1.60it/s, loss=0.227, v_num=0]\n",
      "Validating: 0it [00:00, ?it/s]\u001b[A\n",
      "Validating: 0it [00:00, ?it/s]\u001b[A\n",
      "Epoch 26: : 6it [00:02,  2.06it/s, loss=0.227, v_num=0]\n",
      "Epoch 26: : 9it [00:05,  1.65it/s, loss=0.227, v_num=0]\n",
      "Epoch 27: : 4it [00:02,  1.57it/s, loss=0.2, v_num=0]  \n",
      "Validating: 0it [00:00, ?it/s]\u001b[A\n",
      "Validating: 0it [00:00, ?it/s]\u001b[A\n",
      "Epoch 27: : 6it [00:03,  1.91it/s, loss=0.2, v_num=0]\n",
      "Epoch 27: : 9it [00:03,  2.36it/s, loss=0.2, v_num=0]\n",
      "Epoch 28: : 4it [00:02,  1.56it/s, loss=0.195, v_num=0]\n",
      "Validating: 0it [00:00, ?it/s]\u001b[A\n",
      "Validating: 0it [00:00, ?it/s]\u001b[A\n",
      "Epoch 28: : 6it [00:03,  1.94it/s, loss=0.195, v_num=0]\n",
      "Epoch 28: : 9it [00:04,  2.20it/s, loss=0.195, v_num=0]\n",
      "Epoch 29: : 4it [00:02,  1.59it/s, loss=0.172, v_num=0]\n",
      "Validating: 0it [00:00, ?it/s]\u001b[A\n",
      "Validating: 0it [00:00, ?it/s]\u001b[A\n",
      "Epoch 29: : 6it [00:03,  1.96it/s, loss=0.172, v_num=0]\n",
      "Epoch 29: : 9it [00:04,  2.21it/s, loss=0.172, v_num=0]\n",
      "Epoch 29: : 9it [00:04,  2.20it/s, loss=0.172, v_num=0]\n"
     ]
    }
   ],
   "source": [
    "trainer.fit(t, dm)"
   ]
  },
  {
   "cell_type": "code",
   "execution_count": 9,
   "id": "8aa5a306-2622-4373-86b1-cf7456f4da6e",
   "metadata": {},
   "outputs": [
    {
     "name": "stderr",
     "output_type": "stream",
     "text": [
      "LOCAL_RANK: 0 - CUDA_VISIBLE_DEVICES: [0]\n"
     ]
    },
    {
     "name": "stdout",
     "output_type": "stream",
     "text": [
      "Testing: 4it [00:01,  2.25it/s]\n",
      "--------------------------------------------------------------------------------\n",
      "DATALOADER:0 TEST RESULTS\n",
      "{'test_loss': 4.200992107391357, 'test_metric': 0.242462158203125}\n",
      "--------------------------------------------------------------------------------\n"
     ]
    },
    {
     "data": {
      "text/plain": [
       "[{'test_metric': 0.242462158203125, 'test_loss': 4.200992107391357}]"
      ]
     },
     "execution_count": 9,
     "metadata": {},
     "output_type": "execute_result"
    }
   ],
   "source": [
    "trainer.test()"
   ]
  },
  {
   "cell_type": "code",
   "execution_count": 10,
   "id": "ac1d903c-eb28-4539-852a-d766704c85b6",
   "metadata": {},
   "outputs": [],
   "source": [
    "g = TransformerGreedySentenceGenerator(t, dm.train_dataset)"
   ]
  },
  {
   "cell_type": "code",
   "execution_count": 11,
   "id": "df853a9b-1d2d-4938-8260-fc0485c54156",
   "metadata": {},
   "outputs": [
    {
     "data": {
      "text/plain": [
       "'Lorem ipsum .'"
      ]
     },
     "execution_count": 11,
     "metadata": {},
     "output_type": "execute_result"
    }
   ],
   "source": [
    "g.generate(\"Lorem ipsum\")"
   ]
  }
 ],
 "metadata": {
  "kernelspec": {
   "display_name": "Python 3",
   "language": "python",
   "name": "python3"
  },
  "language_info": {
   "codemirror_mode": {
    "name": "ipython",
    "version": 3
   },
   "file_extension": ".py",
   "mimetype": "text/x-python",
   "name": "python",
   "nbconvert_exporter": "python",
   "pygments_lexer": "ipython3",
   "version": "3.9.4"
  }
 },
 "nbformat": 4,
 "nbformat_minor": 5
}
