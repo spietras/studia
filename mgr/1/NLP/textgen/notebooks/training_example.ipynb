{
 "cells": [
  {
   "cell_type": "code",
   "execution_count": 1,
   "id": "47b4b5cd-541b-4c94-8b3f-22ea73b5c1ff",
   "metadata": {
    "tags": []
   },
   "outputs": [],
   "source": [
    "from textgen.data.modules import SentenceCompletionIterableSplitFromStrings\n",
    "from textgen.model.transformer import Transformer, TransformerModel\n",
    "from textgen.generation import TransformerGreedySentenceGenerator, TransformerProbabilisticSentenceGenerator\n",
    "from pytorch_lightning import Trainer\n",
    "import torch\n",
    "import os"
   ]
  },
  {
   "cell_type": "code",
   "execution_count": 2,
   "id": "33b9fab9-9810-45c2-8b66-330fa05cac6d",
   "metadata": {},
   "outputs": [],
   "source": [
    "train_text = \"\"\"Lorem ipsum dolor sit amet, consectetur adipiscing elit. Duis in sapien a turpis ullamcorper iaculis. \n",
    "                Vivamus ut mi sed nisl maximus vehicula. Aliquam non augue eget enim tempus posuere ut id dui. \n",
    "                Pellentesque habitant morbi tristique senectus et netus et malesuada fames ac turpis egestas. \n",
    "                Mauris sed bibendum lorem. Nam laoreet nibh ac rutrum ultrices. \n",
    "                Fusce quis porttitor orci, a vestibulum justo. Maecenas varius sapien justo, id fringilla risus lobortis rhoncus. \n",
    "                Vestibulum nec consectetur arcu. Maecenas varius non diam eu laoreet.\n",
    "                Quisque eu mattis magna. Donec rhoncus ante sit amet augue egestas imperdiet. \n",
    "                Nulla facilisi. Vestibulum eget orci sed ante euismod tempus sit amet eu ante. \n",
    "                Cras vestibulum eget eros non rhoncus. Curabitur sit amet nisl leo. \n",
    "                Mauris egestas sapien tristique sagittis ultricies. Cras cursus quam id dui cursus, nec tincidunt diam fermentum. \n",
    "                Cras a lectus lorem. Etiam vitae tincidunt odio. Aliquam sapien ex, eleifend at ante non, gravida vestibulum eros.\n",
    "                Morbi et elementum lacus. Morbi vel sagittis urna. Sed eu scelerisque libero. \n",
    "                Suspendisse volutpat iaculis velit vel finibus. Pellentesque eleifend lacus ac auctor ultricies. \n",
    "                Vivamus fermentum pulvinar viverra. Pellentesque luctus facilisis lacinia. \n",
    "                Sed efficitur, tellus nec rutrum cursus, neque magna sollicitudin enim, quis efficitur massa justo et urna.\"\"\"\n",
    "val_text =   \"\"\"Etiam eget ipsum tincidunt, lobortis metus id, eleifend arcu. Pellentesque consectetur placerat quam ut varius. \n",
    "                Proin porta, elit et volutpat accumsan, quam est eleifend nisi, in tincidunt lacus ipsum quis mauris. \n",
    "                Nulla condimentum eu nibh sed ornare.\"\"\"\n",
    "test_text =  \"\"\"Etiam ligula velit, molestie et semper vel, finibus id sem. \n",
    "                Donec pharetra nisl erat, nec scelerisque neque congue non. Praesent blandit elit sed ipsum porttitor maximus. \n",
    "                Mauris quis ipsum mollis, ullamcorper ante sit amet, efficitur risus. \n",
    "                Maecenas ipsum arcu, aliquam ut orci non, laoreet porta risus. \n",
    "                Nullam euismod blandit libero, quis consectetur est lacinia sed. Quisque consectetur ante ut orci iaculis feugiat. \n",
    "                Mauris blandit, dui vel maximus luctus, ligula eros tempus mi, vitae dapibus dui elit in purus. \n",
    "                Maecenas sed euismod orci. Nunc auctor sit amet diam et malesuada. \n",
    "                Vestibulum eget lorem dapibus eros pellentesque rutrum. Aliquam gravida tellus vel porttitor tincidunt. \n",
    "                Vivamus libero lectus, egestas vitae gravida a, lobortis feugiat leo.\"\"\""
   ]
  },
  {
   "cell_type": "code",
   "execution_count": 3,
   "id": "dd4ad2e9-85c8-481d-b513-7b69ad819849",
   "metadata": {},
   "outputs": [],
   "source": [
    "max_length = 20\n",
    "batch_size = 64\n",
    "num_workers = os.cpu_count()"
   ]
  },
  {
   "cell_type": "code",
   "execution_count": 4,
   "id": "3b56bfd2-f0a7-41f2-aaf3-311f0a6e1520",
   "metadata": {},
   "outputs": [],
   "source": [
    "dm = SentenceCompletionIterableSplitFromStrings(train_text, val_text, test_text, \n",
    "                                                max_length=max_length, batch_size=batch_size, num_workers=num_workers)\n",
    "vocab_size = len(dm.train_dataset.sentences.tokens)"
   ]
  },
  {
   "cell_type": "code",
   "execution_count": 5,
   "id": "15497f44-5628-43b0-9b7f-6281ff7c995c",
   "metadata": {},
   "outputs": [],
   "source": [
    "d_model = 64\n",
    "d_ff = 16\n",
    "num_heads = 4\n",
    "num_layers = 4\n",
    "drop_out_rate = 0.01"
   ]
  },
  {
   "cell_type": "code",
   "execution_count": 6,
   "id": "b6b48111-b021-4b01-99f3-faf3a9bf8b14",
   "metadata": {},
   "outputs": [],
   "source": [
    "t = Transformer(TransformerModel(vocab_size, vocab_size, d_model, d_ff, num_heads, num_layers, drop_out_rate, max_length),\n",
    "                dm.train_dataset.pad_id, lr=0.01)"
   ]
  },
  {
   "cell_type": "code",
   "execution_count": 7,
   "id": "98f200f5-c315-4084-8671-5fe47d667007",
   "metadata": {},
   "outputs": [
    {
     "name": "stderr",
     "output_type": "stream",
     "text": [
      "GPU available: True, used: True\n",
      "TPU available: False, using: 0 TPU cores\n"
     ]
    }
   ],
   "source": [
    "trainer = Trainer(max_epochs=30, gpus=int(torch.cuda.is_available()))"
   ]
  },
  {
   "cell_type": "code",
   "execution_count": 8,
   "id": "330cb1e3-d530-4583-9a88-e95c000e6cda",
   "metadata": {},
   "outputs": [
    {
     "name": "stderr",
     "output_type": "stream",
     "text": [
      "LOCAL_RANK: 0 - CUDA_VISIBLE_DEVICES: [0]\n",
      "\n",
      "  | Name   | Type             | Params\n",
      "--------------------------------------------\n",
      "0 | model  | TransformerModel | 248 K \n",
      "1 | loss   | NLLLoss          | 0     \n",
      "2 | metric | Accuracy         | 0     \n",
      "--------------------------------------------\n",
      "248 K     Trainable params\n",
      "0         Non-trainable params\n",
      "248 K     Total params\n",
      "0.993     Total estimated model params size (MB)\n"
     ]
    },
    {
     "name": "stdout",
     "output_type": "stream",
     "text": [
      "Epoch 0: : 8it [00:00, 11.29it/s, loss=3.44, v_num=8]                 \n",
      "Validating: 0it [00:00, ?it/s]\u001b[A\n",
      "Validating: 0it [00:00, ?it/s]\u001b[A\n",
      "Epoch 0: : 10it [00:00, 10.20it/s, loss=3.44, v_num=8]\n",
      "Epoch 0: : 17it [00:01, 15.10it/s, loss=3.44, v_num=8]\n",
      "Epoch 1: : 8it [00:00, 11.97it/s, loss=2.71, v_num=8] \n",
      "Validating: 0it [00:00, ?it/s]\u001b[A\n",
      "Validating: 0it [00:00, ?it/s]\u001b[A\n",
      "Epoch 1: : 12it [00:00, 12.65it/s, loss=2.71, v_num=8]\n",
      "Epoch 1: : 17it [00:01, 15.94it/s, loss=2.71, v_num=8]\n",
      "Epoch 2: : 8it [00:00, 12.30it/s, loss=1.88, v_num=8] \n",
      "Validating: 0it [00:00, ?it/s]\u001b[A\n",
      "Validating: 0it [00:00, ?it/s]\u001b[A\n",
      "Epoch 2: : 12it [00:00, 12.44it/s, loss=1.88, v_num=8]\n",
      "Epoch 2: : 17it [00:01, 15.84it/s, loss=1.88, v_num=8]\n",
      "Epoch 3: : 8it [00:00, 12.11it/s, loss=1.21, v_num=8] \n",
      "Validating: 0it [00:00, ?it/s]\u001b[A\n",
      "Validating: 0it [00:00, ?it/s]\u001b[A\n",
      "Epoch 3: : 12it [00:00, 12.46it/s, loss=1.21, v_num=8]\n",
      "Epoch 3: : 17it [00:01, 15.88it/s, loss=1.21, v_num=8]\n",
      "Epoch 4: : 8it [00:00, 11.93it/s, loss=0.797, v_num=8]\n",
      "Validating: 0it [00:00, ?it/s]\u001b[A\n",
      "Validating: 0it [00:00, ?it/s]\u001b[A\n",
      "Epoch 4: : 12it [00:00, 12.44it/s, loss=0.797, v_num=8]\n",
      "Epoch 4: : 17it [00:01, 15.97it/s, loss=0.797, v_num=8]\n",
      "Epoch 5: : 8it [00:00, 11.68it/s, loss=0.559, v_num=8] \n",
      "Validating: 0it [00:00, ?it/s]\u001b[A\n",
      "Validating: 0it [00:00, ?it/s]\u001b[A\n",
      "Epoch 5: : 12it [00:00, 12.25it/s, loss=0.559, v_num=8]\n",
      "Epoch 5: : 17it [00:01, 15.73it/s, loss=0.559, v_num=8]\n",
      "Epoch 6: : 8it [00:00, 12.05it/s, loss=0.443, v_num=8] \n",
      "Validating: 0it [00:00, ?it/s]\u001b[A\n",
      "Validating: 0it [00:00, ?it/s]\u001b[A\n",
      "Epoch 6: : 12it [00:00, 12.37it/s, loss=0.443, v_num=8]\n",
      "Epoch 6: : 17it [00:01, 15.66it/s, loss=0.443, v_num=8]\n",
      "Epoch 7: : 8it [00:00, 12.17it/s, loss=0.372, v_num=8] \n",
      "Validating: 0it [00:00, ?it/s]\u001b[A\n",
      "Validating: 0it [00:00, ?it/s]\u001b[A\n",
      "Epoch 7: : 12it [00:01, 11.92it/s, loss=0.372, v_num=8]\n",
      "Epoch 7: : 17it [00:01, 15.36it/s, loss=0.372, v_num=8]\n",
      "Epoch 8: : 8it [00:00, 11.98it/s, loss=0.316, v_num=8] \n",
      "Validating: 0it [00:00, ?it/s]\u001b[A\n",
      "Validating: 0it [00:00, ?it/s]\u001b[A\n",
      "Epoch 8: : 12it [00:00, 12.26it/s, loss=0.316, v_num=8]\n",
      "Epoch 8: : 17it [00:01, 15.80it/s, loss=0.316, v_num=8]\n",
      "Epoch 9: : 8it [00:00, 12.04it/s, loss=0.286, v_num=8] \n",
      "Validating: 0it [00:00, ?it/s]\u001b[A\n",
      "Validating: 0it [00:00, ?it/s]\u001b[A\n",
      "Epoch 9: : 12it [00:00, 12.52it/s, loss=0.286, v_num=8]\n",
      "Epoch 9: : 17it [00:01, 15.79it/s, loss=0.286, v_num=8]\n",
      "Epoch 10: : 8it [00:00, 12.05it/s, loss=0.287, v_num=8]\n",
      "Validating: 0it [00:00, ?it/s]\u001b[A\n",
      "Validating: 0it [00:00, ?it/s]\u001b[A\n",
      "Epoch 10: : 12it [00:00, 12.51it/s, loss=0.287, v_num=8]\n",
      "Epoch 10: : 17it [00:01, 15.77it/s, loss=0.287, v_num=8]\n",
      "Epoch 11: : 8it [00:00, 12.26it/s, loss=0.258, v_num=8] \n",
      "Validating: 0it [00:00, ?it/s]\u001b[A\n",
      "Validating: 0it [00:00, ?it/s]\u001b[A\n",
      "Epoch 11: : 12it [00:00, 12.80it/s, loss=0.258, v_num=8]\n",
      "Epoch 11: : 17it [00:01, 16.17it/s, loss=0.258, v_num=8]\n",
      "Epoch 12: : 8it [00:00, 12.48it/s, loss=0.232, v_num=8] \n",
      "Validating: 0it [00:00, ?it/s]\u001b[A\n",
      "Validating: 0it [00:00, ?it/s]\u001b[A\n",
      "Epoch 12: : 12it [00:00, 12.92it/s, loss=0.232, v_num=8]\n",
      "Epoch 12: : 17it [00:01, 16.33it/s, loss=0.232, v_num=8]\n",
      "Epoch 13: : 8it [00:00, 12.03it/s, loss=0.218, v_num=8] \n",
      "Validating: 0it [00:00, ?it/s]\u001b[A\n",
      "Validating: 0it [00:00, ?it/s]\u001b[A\n",
      "Epoch 13: : 12it [00:00, 12.43it/s, loss=0.218, v_num=8]\n",
      "Epoch 13: : 17it [00:01, 15.84it/s, loss=0.218, v_num=8]\n",
      "Epoch 14: : 8it [00:00, 12.00it/s, loss=0.205, v_num=8] \n",
      "Validating: 0it [00:00, ?it/s]\u001b[A\n",
      "Validating: 0it [00:00, ?it/s]\u001b[A\n",
      "Epoch 14: : 12it [00:00, 12.54it/s, loss=0.205, v_num=8]\n",
      "Epoch 14: : 17it [00:01, 16.01it/s, loss=0.205, v_num=8]\n",
      "Epoch 15: : 8it [00:00, 12.30it/s, loss=0.183, v_num=8] \n",
      "Validating: 0it [00:00, ?it/s]\u001b[A\n",
      "Validating: 0it [00:00, ?it/s]\u001b[A\n",
      "Epoch 15: : 12it [00:00, 12.62it/s, loss=0.183, v_num=8]\n",
      "Epoch 15: : 17it [00:01, 16.22it/s, loss=0.183, v_num=8]\n",
      "Epoch 16: : 8it [00:00, 11.92it/s, loss=0.176, v_num=8] \n",
      "Validating: 0it [00:00, ?it/s]\u001b[A\n",
      "Validating: 0it [00:00, ?it/s]\u001b[A\n",
      "Epoch 16: : 12it [00:01, 11.93it/s, loss=0.176, v_num=8]\n",
      "Epoch 16: : 17it [00:01, 14.86it/s, loss=0.176, v_num=8]\n",
      "Epoch 17: : 8it [00:00, 11.62it/s, loss=0.179, v_num=8] \n",
      "Validating: 0it [00:00, ?it/s]\u001b[A\n",
      "Validating: 0it [00:00, ?it/s]\u001b[A\n",
      "Epoch 17: : 12it [00:01, 11.92it/s, loss=0.179, v_num=8]\n",
      "Epoch 17: : 17it [00:01, 14.74it/s, loss=0.179, v_num=8]\n",
      "Epoch 18: : 8it [00:00, 11.00it/s, loss=0.174, v_num=8] \n",
      "Validating: 0it [00:00, ?it/s]\u001b[A\n",
      "Validating: 0it [00:00, ?it/s]\u001b[A\n",
      "Epoch 18: : 12it [00:01, 11.72it/s, loss=0.174, v_num=8]\n",
      "Epoch 18: : 17it [00:01, 15.00it/s, loss=0.174, v_num=8]\n",
      "Epoch 19: : 8it [00:00, 11.29it/s, loss=0.178, v_num=8] \n",
      "Validating: 0it [00:00, ?it/s]\u001b[A\n",
      "Validating: 0it [00:00, ?it/s]\u001b[A\n",
      "Epoch 19: : 12it [00:01, 11.83it/s, loss=0.178, v_num=8]\n",
      "Epoch 19: : 17it [00:01, 14.89it/s, loss=0.178, v_num=8]\n",
      "Epoch 20: : 8it [00:00, 11.75it/s, loss=0.165, v_num=8] \n",
      "Validating: 0it [00:00, ?it/s]\u001b[A\n",
      "Validating: 0it [00:00, ?it/s]\u001b[A\n",
      "Epoch 20: : 12it [00:00, 12.22it/s, loss=0.165, v_num=8]\n",
      "Epoch 20: : 17it [00:01, 15.34it/s, loss=0.165, v_num=8]\n",
      "Epoch 21: : 8it [00:00, 11.18it/s, loss=0.16, v_num=8]  \n",
      "Validating: 0it [00:00, ?it/s]\u001b[A\n",
      "Validating: 0it [00:00, ?it/s]\u001b[A\n",
      "Epoch 21: : 12it [00:01, 11.68it/s, loss=0.16, v_num=8]\n",
      "Epoch 21: : 17it [00:01, 14.96it/s, loss=0.16, v_num=8]\n",
      "Epoch 22: : 8it [00:00, 11.70it/s, loss=0.143, v_num=8]\n",
      "Validating: 0it [00:00, ?it/s]\u001b[A\n",
      "Validating: 0it [00:00, ?it/s]\u001b[A\n",
      "Epoch 22: : 12it [00:00, 12.30it/s, loss=0.143, v_num=8]\n",
      "Epoch 22: : 17it [00:01, 15.61it/s, loss=0.143, v_num=8]\n",
      "Epoch 23: : 8it [00:00, 11.52it/s, loss=0.152, v_num=8] \n",
      "Validating: 0it [00:00, ?it/s]\u001b[A\n",
      "Validating: 0it [00:00, ?it/s]\u001b[A\n",
      "Epoch 23: : 12it [00:01, 11.79it/s, loss=0.152, v_num=8]\n",
      "Epoch 23: : 17it [00:01, 15.06it/s, loss=0.152, v_num=8]\n",
      "Epoch 24: : 8it [00:00, 12.03it/s, loss=0.14, v_num=8]  \n",
      "Validating: 0it [00:00, ?it/s]\u001b[A\n",
      "Validating: 0it [00:00, ?it/s]\u001b[A\n",
      "Epoch 24: : 17it [00:01, 16.06it/s, loss=0.14, v_num=8]\n",
      "Epoch 25: : 8it [00:00, 11.54it/s, loss=0.137, v_num=8]\n",
      "Validating: 0it [00:00, ?it/s]\u001b[A\n",
      "Validating: 0it [00:00, ?it/s]\u001b[A\n",
      "Epoch 25: : 12it [00:00, 12.16it/s, loss=0.137, v_num=8]\n",
      "Epoch 25: : 17it [00:01, 15.20it/s, loss=0.137, v_num=8]\n",
      "Epoch 26: : 8it [00:00, 11.05it/s, loss=0.127, v_num=8] \n",
      "Validating: 0it [00:00, ?it/s]\u001b[A\n",
      "Validating: 0it [00:00, ?it/s]\u001b[A\n",
      "Epoch 26: : 12it [00:01, 11.63it/s, loss=0.127, v_num=8]\n",
      "Epoch 26: : 17it [00:01, 14.92it/s, loss=0.127, v_num=8]\n",
      "Epoch 27: : 8it [00:00, 11.42it/s, loss=0.137, v_num=8] \n",
      "Validating: 0it [00:00, ?it/s]\u001b[A\n",
      "Validating: 0it [00:00, ?it/s]\u001b[A\n",
      "Epoch 27: : 12it [00:01, 11.34it/s, loss=0.137, v_num=8]\n",
      "Epoch 27: : 17it [00:01, 14.57it/s, loss=0.137, v_num=8]\n",
      "Epoch 28: : 8it [00:00, 11.58it/s, loss=0.139, v_num=8] \n",
      "Validating: 0it [00:00, ?it/s]\u001b[A\n",
      "Validating: 0it [00:00, ?it/s]\u001b[A\n",
      "Epoch 28: : 12it [00:01, 11.95it/s, loss=0.139, v_num=8]\n",
      "Epoch 28: : 17it [00:01, 15.19it/s, loss=0.139, v_num=8]\n",
      "Epoch 29: : 8it [00:00, 11.53it/s, loss=0.142, v_num=8] \n",
      "Validating: 0it [00:00, ?it/s]\u001b[A\n",
      "Validating: 0it [00:00, ?it/s]\u001b[A\n",
      "Epoch 29: : 12it [00:00, 12.16it/s, loss=0.142, v_num=8]\n",
      "Epoch 29: : 17it [00:01, 15.24it/s, loss=0.142, v_num=8]\n",
      "Epoch 29: : 17it [00:01, 15.16it/s, loss=0.142, v_num=8]\n"
     ]
    }
   ],
   "source": [
    "trainer.fit(t, dm)"
   ]
  },
  {
   "cell_type": "code",
   "execution_count": 9,
   "id": "8aa5a306-2622-4373-86b1-cf7456f4da6e",
   "metadata": {},
   "outputs": [
    {
     "name": "stderr",
     "output_type": "stream",
     "text": [
      "LOCAL_RANK: 0 - CUDA_VISIBLE_DEVICES: [0]\n"
     ]
    },
    {
     "name": "stdout",
     "output_type": "stream",
     "text": [
      "Testing: 8it [00:00, 18.64it/s]\n",
      "--------------------------------------------------------------------------------\n",
      "DATALOADER:0 TEST RESULTS\n",
      "{'test_loss': 3.9968996047973633, 'test_metric': 0.25229737162590027}\n",
      "--------------------------------------------------------------------------------\n"
     ]
    },
    {
     "data": {
      "text/plain": [
       "[{'test_metric': 0.25229737162590027, 'test_loss': 3.9968996047973633}]"
      ]
     },
     "execution_count": 9,
     "metadata": {},
     "output_type": "execute_result"
    }
   ],
   "source": [
    "trainer.test()"
   ]
  },
  {
   "cell_type": "code",
   "execution_count": 10,
   "id": "ac1d903c-eb28-4539-852a-d766704c85b6",
   "metadata": {},
   "outputs": [],
   "source": [
    "t.eval()\n",
    "g_greedy = TransformerGreedySentenceGenerator(t, dm.train_dataset)\n",
    "g_probabilistic = TransformerProbabilisticSentenceGenerator(t, dm.train_dataset)"
   ]
  },
  {
   "cell_type": "code",
   "execution_count": 11,
   "id": "df853a9b-1d2d-4938-8260-fc0485c54156",
   "metadata": {},
   "outputs": [
    {
     "data": {
      "text/plain": [
       "'Lorem ipsum.'"
      ]
     },
     "execution_count": 11,
     "metadata": {},
     "output_type": "execute_result"
    }
   ],
   "source": [
    "g_greedy.generate(\"Lorem ipsum\")"
   ]
  },
  {
   "cell_type": "code",
   "execution_count": 12,
   "id": "ad382f05-433c-4b6f-83e3-980b3baefc67",
   "metadata": {},
   "outputs": [
    {
     "data": {
      "text/plain": [
       "'Lorem ipsum nisl rutrum pulvinar non a.'"
      ]
     },
     "execution_count": 12,
     "metadata": {},
     "output_type": "execute_result"
    }
   ],
   "source": [
    "g_probabilistic.generate(\"Lorem ipsum\")"
   ]
  }
 ],
 "metadata": {
  "kernelspec": {
   "display_name": "Python 3",
   "language": "python",
   "name": "python3"
  },
  "language_info": {
   "codemirror_mode": {
    "name": "ipython",
    "version": 3
   },
   "file_extension": ".py",
   "mimetype": "text/x-python",
   "name": "python",
   "nbconvert_exporter": "python",
   "pygments_lexer": "ipython3",
   "version": "3.9.4"
  }
 },
 "nbformat": 4,
 "nbformat_minor": 5
}
